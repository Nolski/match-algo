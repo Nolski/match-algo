{
 "cells": [
  {
   "cell_type": "code",
   "execution_count": 3,
   "metadata": {},
   "outputs": [],
   "source": [
    "from est_predicted_prob import predicted_probability\n",
    "import numpy as np\n",
    "\n",
    "from numpy.random import randn\n",
    "from numpy.matlib import repmat\n",
    "from scipy.stats import norm\n",
    "\n",
    "from matplotlib import pyplot\n",
    "\n",
    "\n",
    "K = 5;\n",
    "Respondents = 1;\n",
    "Options = 50;\n",
    "\n",
    "# %% First, draw parameters...\n",
    "\n",
    "Params = randn(Respondents, K)\n",
    "ID = 1\n",
    "BigParams = repmat(Params, Options, 1)\n",
    "BigID = repmat(ID, Options, 1)\n",
    "\n",
    "\n",
    "# %% Second, draw data...\n",
    "x = randn(Respondents * Options, K)\n",
    "x[:, 0] = 1\n",
    "\n",
    "# %% Third, simulate the outcome...\n",
    "xhat = np.sum(np.multiply(x, BigParams), axis=1)\n",
    "trueprob = norm.cdf(xhat)\n",
    "epsilon = randn(Respondents * Options, 1)\n",
    "\n",
    "y = (xhat + epsilon >= 0)"
   ]
  },
  {
   "cell_type": "code",
   "execution_count": 13,
   "metadata": {},
   "outputs": [
    {
     "name": "stdout",
     "output_type": "stream",
     "text": [
      "Variable                Type                          Data/Info\n",
      "---------------------------------------------------------------\n",
      "BigID                   ndarray                       50x1: 50 elems, type `int64`, 400 bytes\n",
      "BigParams               ndarray                       50x5: 250 elems, type `float64`, 2000 bytes\n",
      "ID                      int                           1\n",
      "K                       int                           5\n",
      "Options                 int                           50\n",
      "Params                  ndarray                       1x5: 5 elems, type `float64`, 40 bytes\n",
      "Respondents             int                           1\n",
      "epsilon                 ndarray                       50x1: 50 elems, type `float64`, 400 bytes\n",
      "inspect                 module                        <module 'inspect' from '/<...>ib/python3.6/inspect.py'>\n",
      "norm                    norm_gen                      <scipy.stats._continuous_<...>en object at 0x110465d68>\n",
      "np                      module                        <module 'numpy' from '/Us<...>kages/numpy/__init__.py'>\n",
      "predicted_probability   function                      <function predicted_probability at 0x10e894620>\n",
      "pyplot                  module                        <module 'matplotlib.pyplo<...>es/matplotlib/pyplot.py'>\n",
      "randn                   builtin_function_or_method    <built-in method randn of<...>te object at 0x10e8893a8>\n",
      "repmat                  function                      <function repmat at 0x1100462f0>\n",
      "trueprob                ndarray                       50: 50 elems, type `float64`, 400 bytes\n",
      "x                       ndarray                       50x5: 250 elems, type `float64`, 2000 bytes\n",
      "xhat                    ndarray                       50: 50 elems, type `float64`, 400 bytes\n",
      "y                       ndarray                       50x50: 2500 elems, type `bool`, 2500 bytes\n"
     ]
    }
   ],
   "source": [
    "whos"
   ]
  },
  {
   "cell_type": "code",
   "execution_count": 31,
   "metadata": {},
   "outputs": [
    {
     "name": "stdout",
     "output_type": "stream",
     "text": [
      "[[ 1.          0.0617735   0.09176151 -0.29567122  1.72488351]\n",
      " [ 1.         -0.95651132 -1.01517155  0.04264309 -0.66731661]\n",
      " [ 1.         -0.58434821  1.0859074  -1.31782689  1.27095018]\n",
      " [ 1.         -1.71578785 -1.73407889 -0.1574108   0.85575296]\n",
      " [ 1.         -0.4337069   0.06862703 -1.68240735  0.3043491 ]\n",
      " [ 1.         -1.02946813  1.226815    0.47891345  1.40523785]\n",
      " [ 1.          0.65900074  0.33347113 -0.67861992  0.78708295]\n",
      " [ 1.         -0.73679129  0.68079043  0.07349008 -0.78249099]\n",
      " [ 1.          0.71976119 -0.42684604 -0.66842358  0.25669723]\n",
      " [ 1.         -0.78933988 -0.05145214 -0.72718875 -0.15261021]\n",
      " [ 1.         -2.17942424  0.6342736  -1.81839488 -0.07287142]\n",
      " [ 1.          1.73445046 -1.2016652  -0.34868597  1.50136877]\n",
      " [ 1.          0.35755977 -0.62950339  0.29458579  1.3005299 ]\n",
      " [ 1.         -0.9602797  -0.03550169  1.53581421 -0.138659  ]\n",
      " [ 1.          0.1107435   1.50399711  1.10657462  0.58803135]\n",
      " [ 1.          0.41515151 -1.12635587 -0.42493135 -0.08274137]\n",
      " [ 1.         -0.04950222 -0.13282877 -0.10780006  1.26077479]\n",
      " [ 1.         -0.20004182  1.9377723   0.23175179  1.14917757]\n",
      " [ 1.         -0.84224733 -0.41055575 -0.10435707  0.97668994]\n",
      " [ 1.         -0.35243443  0.26623435 -0.40199403  2.25317337]\n",
      " [ 1.         -0.85614023 -0.73954575 -1.87258286 -0.35210524]\n",
      " [ 1.         -0.19879246 -0.99083683 -0.16502566  0.78503616]\n",
      " [ 1.         -0.40594114  0.67577398  0.72470408  0.19142373]\n",
      " [ 1.         -0.10263289 -0.1544074  -1.41103225 -0.69777624]\n",
      " [ 1.          1.07070469  0.29914946 -0.18067723  0.35675009]\n",
      " [ 1.          0.04521137  0.47274861  0.47248113  0.29788375]\n",
      " [ 1.         -0.40869043  1.65901837 -0.32303497 -0.99781967]\n",
      " [ 1.         -0.33030465 -1.09363096 -0.70350985  1.4661984 ]\n",
      " [ 1.          0.52256916  0.5978854  -1.22813391  0.50769449]\n",
      " [ 1.          0.16452292 -0.71531455 -0.83714639 -0.32022267]\n",
      " [ 1.         -0.3992198   0.21213423  1.39125393  0.74614923]\n",
      " [ 1.         -2.25005587  1.33757361 -0.98828832  1.57472296]\n",
      " [ 1.         -1.03510241  2.51906831 -0.39672243 -0.40149962]\n",
      " [ 1.          0.49519442  0.6210553  -0.54149378  0.60345352]\n",
      " [ 1.         -1.32794165 -0.80090643 -1.3178381  -1.4816321 ]\n",
      " [ 1.          0.49761246  0.62359756 -1.42792629  1.27226887]\n",
      " [ 1.         -1.10335458  0.51562205 -0.41920879  0.08508162]\n",
      " [ 1.         -0.93081354 -0.51673156  1.43158     0.42918775]\n",
      " [ 1.         -1.57434791 -0.09236076 -0.08818552  0.64264358]\n",
      " [ 1.         -0.54703827 -0.19593084 -0.41618616 -0.3039101 ]\n",
      " [ 1.         -0.0419003  -2.11991908  1.18601933 -0.64816919]\n",
      " [ 1.         -0.61292389  0.27959363 -0.66300287  0.54125203]\n",
      " [ 1.          0.5570656  -0.12228831  1.50836204  0.35552952]\n",
      " [ 1.         -1.60605056  1.87059025 -0.15123711 -0.12913252]\n",
      " [ 1.          1.16617474  1.16371358 -0.11703939 -0.83427093]\n",
      " [ 1.          1.20646691  0.57134178 -0.03430112  1.51680054]\n",
      " [ 1.          1.40823411 -0.46576493  0.21594178  0.45856512]\n",
      " [ 1.          1.25956088 -1.33723928  1.01110525  1.19714217]\n",
      " [ 1.          1.98617379  0.37369552 -2.89101236  0.73234764]\n",
      " [ 1.          0.81772715  0.53797317 -1.84103652 -1.93154435]]\n",
      "False\n"
     ]
    }
   ],
   "source": [
    "print(x)\n",
    "\n",
    "print(y)"
   ]
  },
  {
   "cell_type": "code",
   "execution_count": 30,
   "metadata": {},
   "outputs": [
    {
     "name": "stdout",
     "output_type": "stream",
     "text": [
      "Warning: Maximum number of function evaluations has been exceeded.\n",
      "[0.99994261 0.99665069 0.99999988 1.         0.99996491 0.9999997\n",
      " 0.95528259 0.97360005 0.83293554 0.99973441 1.         0.65078123\n",
      " 0.99161183 0.98880589 0.88710678 0.85177756 0.99963754 0.99904431\n",
      " 0.99999815 0.99999997 0.99998602 0.99929628 0.98117738 0.96911499\n",
      " 0.49542314 0.93367996 0.88057813 0.99999873 0.9750891  0.93076568\n",
      " 0.99104679 1.         0.99921117 0.95249581 0.9995444  0.99910609\n",
      " 0.999982   0.99892903 0.99999999 0.99518363 0.59367406 0.99995635\n",
      " 0.46311647 0.99999729 0.0317778  0.85888803 0.22632679 0.51466023\n",
      " 0.68208683 0.09202017]\n"
     ]
    },
    {
     "name": "stderr",
     "output_type": "stream",
     "text": [
      "/Users/nolski/code/match-algo/venv/lib/python3.6/site-packages/ipykernel_launcher.py:13: RuntimeWarning: divide by zero encountered in log\n",
      "  del sys.path[0]\n",
      "/Users/nolski/code/match-algo/venv/lib/python3.6/site-packages/scipy/optimize/optimize.py:563: RuntimeWarning: invalid value encountered in subtract\n",
      "  numpy.max(numpy.abs(fsim[0] - fsim[1:])) <= fatol):\n"
     ]
    }
   ],
   "source": [
    "import numpy as np\n",
    "\n",
    "from math import sqrt, log, pi\n",
    "from scipy.optimize import fmin\n",
    "from scipy.special import erf\n",
    "from scipy.stats import norm\n",
    "\n",
    "def ll(beta, y, x):\n",
    "    pred_prob = norm.cdf(np.matmul(x, beta))\n",
    "\n",
    "    pred_prob_log = np.log(pred_prob)\n",
    "    inverse_y = (1 - y)\n",
    "    inverse_log_pred_prob = np.log(1 - pred_prob)\n",
    "\n",
    "    s = (y * pred_prob_log) + (inverse_y * inverse_log_pred_prob)\n",
    "    loglikelihood = np.sum(s)\n",
    "\n",
    "    sigma = 1\n",
    "    npdf = norm.pdf(beta / sigma)\n",
    "\n",
    "    return loglikelihood + np.sum(np.log(npdf))\n",
    "\n",
    "\n",
    "def predicted_probability(y, x):\n",
    "    guess = np.zeros((5, 1))\n",
    "    betahat = fmin(ll, x0=guess, args=(y, x))\n",
    "    return norm.cdf(np.matmul(x, betahat))\n",
    "\n",
    "y = y[count]\n",
    "x = x\n",
    "\n",
    "guess = np.zeros((5, 1))\n",
    "betahat = fmin(ll, x0=guess, args=(y, x))\n",
    "print(norm.cdf(np.matmul(x, betahat)))\n"
   ]
  },
  {
   "cell_type": "code",
   "execution_count": 21,
   "metadata": {},
   "outputs": [
    {
     "name": "stdout",
     "output_type": "stream",
     "text": [
      "[False  True False  True  True False  True False  True  True False  True\n",
      "  True False False  True  True False  True False  True  True False  True\n",
      "  True False False  True  True  True False False False False  True  True\n",
      " False False False  True  True False False False False False  True  True\n",
      "  True  True]\n",
      "[[ 1.          0.0617735   0.09176151 -0.29567122  1.72488351]\n",
      " [ 1.         -0.95651132 -1.01517155  0.04264309 -0.66731661]\n",
      " [ 1.         -0.58434821  1.0859074  -1.31782689  1.27095018]\n",
      " [ 1.         -1.71578785 -1.73407889 -0.1574108   0.85575296]\n",
      " [ 1.         -0.4337069   0.06862703 -1.68240735  0.3043491 ]\n",
      " [ 1.         -1.02946813  1.226815    0.47891345  1.40523785]\n",
      " [ 1.          0.65900074  0.33347113 -0.67861992  0.78708295]\n",
      " [ 1.         -0.73679129  0.68079043  0.07349008 -0.78249099]\n",
      " [ 1.          0.71976119 -0.42684604 -0.66842358  0.25669723]\n",
      " [ 1.         -0.78933988 -0.05145214 -0.72718875 -0.15261021]\n",
      " [ 1.         -2.17942424  0.6342736  -1.81839488 -0.07287142]\n",
      " [ 1.          1.73445046 -1.2016652  -0.34868597  1.50136877]\n",
      " [ 1.          0.35755977 -0.62950339  0.29458579  1.3005299 ]\n",
      " [ 1.         -0.9602797  -0.03550169  1.53581421 -0.138659  ]\n",
      " [ 1.          0.1107435   1.50399711  1.10657462  0.58803135]\n",
      " [ 1.          0.41515151 -1.12635587 -0.42493135 -0.08274137]\n",
      " [ 1.         -0.04950222 -0.13282877 -0.10780006  1.26077479]\n",
      " [ 1.         -0.20004182  1.9377723   0.23175179  1.14917757]\n",
      " [ 1.         -0.84224733 -0.41055575 -0.10435707  0.97668994]\n",
      " [ 1.         -0.35243443  0.26623435 -0.40199403  2.25317337]\n",
      " [ 1.         -0.85614023 -0.73954575 -1.87258286 -0.35210524]\n",
      " [ 1.         -0.19879246 -0.99083683 -0.16502566  0.78503616]\n",
      " [ 1.         -0.40594114  0.67577398  0.72470408  0.19142373]\n",
      " [ 1.         -0.10263289 -0.1544074  -1.41103225 -0.69777624]\n",
      " [ 1.          1.07070469  0.29914946 -0.18067723  0.35675009]\n",
      " [ 1.          0.04521137  0.47274861  0.47248113  0.29788375]\n",
      " [ 1.         -0.40869043  1.65901837 -0.32303497 -0.99781967]\n",
      " [ 1.         -0.33030465 -1.09363096 -0.70350985  1.4661984 ]\n",
      " [ 1.          0.52256916  0.5978854  -1.22813391  0.50769449]\n",
      " [ 1.          0.16452292 -0.71531455 -0.83714639 -0.32022267]\n",
      " [ 1.         -0.3992198   0.21213423  1.39125393  0.74614923]\n",
      " [ 1.         -2.25005587  1.33757361 -0.98828832  1.57472296]\n",
      " [ 1.         -1.03510241  2.51906831 -0.39672243 -0.40149962]\n",
      " [ 1.          0.49519442  0.6210553  -0.54149378  0.60345352]\n",
      " [ 1.         -1.32794165 -0.80090643 -1.3178381  -1.4816321 ]\n",
      " [ 1.          0.49761246  0.62359756 -1.42792629  1.27226887]\n",
      " [ 1.         -1.10335458  0.51562205 -0.41920879  0.08508162]\n",
      " [ 1.         -0.93081354 -0.51673156  1.43158     0.42918775]\n",
      " [ 1.         -1.57434791 -0.09236076 -0.08818552  0.64264358]\n",
      " [ 1.         -0.54703827 -0.19593084 -0.41618616 -0.3039101 ]\n",
      " [ 1.         -0.0419003  -2.11991908  1.18601933 -0.64816919]\n",
      " [ 1.         -0.61292389  0.27959363 -0.66300287  0.54125203]\n",
      " [ 1.          0.5570656  -0.12228831  1.50836204  0.35552952]\n",
      " [ 1.         -1.60605056  1.87059025 -0.15123711 -0.12913252]\n",
      " [ 1.          1.16617474  1.16371358 -0.11703939 -0.83427093]\n",
      " [ 1.          1.20646691  0.57134178 -0.03430112  1.51680054]\n",
      " [ 1.          1.40823411 -0.46576493  0.21594178  0.45856512]\n",
      " [ 1.          1.25956088 -1.33723928  1.01110525  1.19714217]\n",
      " [ 1.          1.98617379  0.37369552 -2.89101236  0.73234764]\n",
      " [ 1.          0.81772715  0.53797317 -1.84103652 -1.93154435]]\n"
     ]
    }
   ],
   "source": []
  },
  {
   "cell_type": "code",
   "execution_count": 27,
   "metadata": {},
   "outputs": [
    {
     "name": "stdout",
     "output_type": "stream",
     "text": [
      "Warning: Maximum number of function evaluations has been exceeded.\n"
     ]
    },
    {
     "name": "stderr",
     "output_type": "stream",
     "text": [
      "/Users/nolski/code/match-algo/venv/lib/python3.6/site-packages/ipykernel_launcher.py:13: RuntimeWarning: divide by zero encountered in log\n",
      "  del sys.path[0]\n",
      "/Users/nolski/code/match-algo/venv/lib/python3.6/site-packages/scipy/optimize/optimize.py:563: RuntimeWarning: invalid value encountered in subtract\n",
      "  numpy.max(numpy.abs(fsim[0] - fsim[1:])) <= fatol):\n"
     ]
    }
   ],
   "source": [
    "newprob = predicted_probability(y=yy, x=xx)"
   ]
  },
  {
   "cell_type": "code",
   "execution_count": null,
   "metadata": {},
   "outputs": [],
   "source": []
  }
 ],
 "metadata": {
  "kernelspec": {
   "display_name": "Python 3",
   "language": "python",
   "name": "python3"
  },
  "language_info": {
   "codemirror_mode": {
    "name": "ipython",
    "version": 3
   },
   "file_extension": ".py",
   "mimetype": "text/x-python",
   "name": "python",
   "nbconvert_exporter": "python",
   "pygments_lexer": "ipython3",
   "version": "3.6.5"
  }
 },
 "nbformat": 4,
 "nbformat_minor": 2
}
