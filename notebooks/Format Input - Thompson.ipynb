{
 "cells": [
  {
   "cell_type": "markdown",
   "metadata": {},
   "source": [
    "# Matching Algorithm Model Comparison\n",
    "\n",
    "Here you will find a comprehensive comparison using our existing match data and testing on various models along with annotation describing each model. The next chunk of code here is just importing various libraries as well as loading in our data."
   ]
  },
  {
   "cell_type": "code",
   "execution_count": 1,
   "metadata": {
    "code_folding": []
   },
   "outputs": [],
   "source": [
    "def warn(*args, **kwargs):\n",
    "    pass\n",
    "import warnings\n",
    "warnings.warn = warn\n",
    "\n",
    "import numpy as np\n",
    "import pandas as pd\n",
    "import statsmodels.api as sm\n",
    "import matplotlib.pyplot as plt\n",
    "import itertools\n",
    "\n",
    "from numpy.random import randn\n",
    "from numpy.matlib import repmat\n",
    "\n",
    "from scipy.stats import norm\n",
    "from scipy.optimize import fmin\n",
    "from scipy.special import erf\n",
    "\n",
    "from patsy import dmatrices\n",
    "\n",
    "from sklearn import metrics\n",
    "from sklearn.metrics import roc_auc_score, roc_curve, auc\n",
    "from sklearn.linear_model import LogisticRegressionCV, LinearRegression, LassoCV, RidgeClassifierCV\n",
    "from sklearn.model_selection import train_test_split, cross_val_score\n",
    "from sklearn.preprocessing import LabelEncoder, OneHotEncoder, MultiLabelBinarizer\n",
    "from sklearn.feature_selection import chi2\n",
    "from sklearn.ensemble import GradientBoostingClassifier"
   ]
  },
  {
   "cell_type": "code",
   "execution_count": 2,
   "metadata": {},
   "outputs": [],
   "source": [
    "job_seekers = pd.read_csv('/home/nolski/Downloads/test.csv')\n",
    "job_seekers = job_seekers[job_seekers['year2'] == '1']\n",
    "job_seekers = job_seekers[job_seekers['employed_6_week'].isin(['0', '1'])]"
   ]
  },
  {
   "cell_type": "code",
   "execution_count": 3,
   "metadata": {},
   "outputs": [],
   "source": [
    "nationality = ['syrian', 'jordanian']\n",
    "gender = ['male', 'female']\n",
    "secondary = ['0', '1']\n",
    "work = [0, 1]\n",
    "cols = ['nationality', 'gender', 'above_secondary_edu', 'ever_employed']\n",
    "lists = [nationality, gender, secondary, work]\n",
    "\n",
    "stratum = pd.DataFrame(list(itertools.product(*lists)), columns=cols)\n",
    "stratum.to_csv('/home/nolski/Downloads/stratum.csv')"
   ]
  },
  {
   "cell_type": "code",
   "execution_count": 4,
   "metadata": {},
   "outputs": [],
   "source": [
    "def set_strata(j):\n",
    "    test = [j['nationality'], j['gender'], j['above_secondary_edu'], j['ever_employed']]\n",
    "    return stratum[(stratum['nationality'] == test[0]) & \n",
    "            (stratum['gender'] == test[1]) & \n",
    "            (stratum['above_secondary_edu'] == test[2]) & \n",
    "            (stratum['ever_employed'] == test[3])].index[0]\n",
    "    "
   ]
  },
  {
   "cell_type": "code",
   "execution_count": 5,
   "metadata": {},
   "outputs": [],
   "source": [
    "def has_intervention(j, i):\n",
    "    return 1 if j['actual_intervention_received'] == i else 0"
   ]
  },
  {
   "cell_type": "code",
   "execution_count": 6,
   "metadata": {},
   "outputs": [],
   "source": [
    "new = pd.DataFrame()\n",
    "new['covar1'] = job_seekers.apply(set_strata, axis=1)\n",
    "new['treatment1'] = job_seekers.apply(has_intervention, args=('cash',), axis=1)\n",
    "new['treatment2'] = job_seekers.apply(has_intervention, args=('information',), axis=1)\n",
    "new['treatment3'] = job_seekers.apply(has_intervention, args=('psychological',), axis=1)\n",
    "new['outcome'] = job_seekers['employed_6_week']"
   ]
  },
  {
   "cell_type": "code",
   "execution_count": 7,
   "metadata": {},
   "outputs": [],
   "source": [
    "new['outcome'].replace(['0'], 'FALSE', inplace=True)\n",
    "new['outcome'].replace(['1'], 'TRUE', inplace=True)"
   ]
  },
  {
   "cell_type": "code",
   "execution_count": 8,
   "metadata": {},
   "outputs": [],
   "source": [
    "new.to_csv('/home/nolski/Downloads/thompson-input.csv', index=False)"
   ]
  },
  {
   "cell_type": "code",
   "execution_count": null,
   "metadata": {},
   "outputs": [],
   "source": []
  }
 ],
 "metadata": {
  "kernelspec": {
   "display_name": "Python 2",
   "language": "python",
   "name": "python2"
  },
  "language_info": {
   "codemirror_mode": {
    "name": "ipython",
    "version": 2
   },
   "file_extension": ".py",
   "mimetype": "text/x-python",
   "name": "python",
   "nbconvert_exporter": "python",
   "pygments_lexer": "ipython2",
   "version": "2.7.15"
  }
 },
 "nbformat": 4,
 "nbformat_minor": 2
}
