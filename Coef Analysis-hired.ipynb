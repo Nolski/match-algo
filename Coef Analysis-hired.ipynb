{
 "cells": [
  {
   "cell_type": "code",
   "execution_count": 1,
   "metadata": {},
   "outputs": [],
   "source": [
    "import numpy as np\n",
    "import pandas as pd\n",
    "import statsmodels.api as sm\n",
    "import matplotlib.pyplot as plt\n",
    "\n",
    "from numpy.random import randn\n",
    "from numpy.matlib import repmat\n",
    "\n",
    "from scipy.stats import norm\n",
    "from scipy.optimize import fmin\n",
    "from scipy.special import erf\n",
    "\n",
    "from patsy import dmatrices\n",
    "\n",
    "from sklearn import metrics\n",
    "from sklearn.linear_model import LogisticRegression, LinearRegression\n",
    "from sklearn.model_selection import train_test_split, cross_val_score\n",
    "from sklearn.preprocessing import LabelEncoder, OneHotEncoder, MultiLabelBinarizer"
   ]
  },
  {
   "cell_type": "code",
   "execution_count": 2,
   "metadata": {},
   "outputs": [],
   "source": [
    "a = pd.DataFrame([[np.nan, 2, 3], [4, np.nan, 6]])\n",
    "\n",
    "a[0] = a[0].fillna(0)"
   ]
  },
  {
   "cell_type": "code",
   "execution_count": 3,
   "metadata": {},
   "outputs": [],
   "source": [
    "def array_vector(col):\n",
    "    return np.array(str(col))\n",
    "\n",
    "arrayerize = np.vectorize(array_vector)\n",
    "\n",
    "def one_hot_encode(df, column, labels_column=None, whitelist=[]):\n",
    "    # This is gross but since strings are iterable, we have to wrap them in a list\n",
    "    # in order for the binarizer to parse the labels as strings and not chars\n",
    "    labels = arrayerize(pd.DataFrame(df[column]))\n",
    "    terms = arrayerize(pd.DataFrame(list(set(df[column]))))\n",
    "\n",
    "    mlb = MultiLabelBinarizer()\n",
    "    mlb.fit(terms)\n",
    "    mlb.transform(labels)\n",
    "    columns = [ f'{column}-{classname}' for classname in  mlb.classes_]\n",
    "\n",
    "    encoded = pd.DataFrame(mlb.transform(labels), columns=columns, index=df[column].index)\n",
    "\n",
    "    df.drop(column, axis=1, inplace=True)\n",
    "    return df.join(encoded)"
   ]
  },
  {
   "cell_type": "code",
   "execution_count": 4,
   "metadata": {},
   "outputs": [],
   "source": [
    "firms = pd.read_csv('../match-data/match-v1/firms.csv')\n",
    "jobs = pd.read_csv('../match-data/match-v1/job-openings.csv')\n",
    "jobs_parent = pd.read_csv('../match-data/match-v1/job-openings-parent.csv')\n",
    "job_seekers = pd.read_csv('../match-data/match-v1/job-seekers.csv')\n",
    "matches = pd.read_csv('../match-data/match-v1/matches.csv')\n",
    "matches_parent = pd.read_csv('../match-data/match-v1/matches-parent.csv')\n",
    "\n",
    "\n",
    "matches_merged = pd.merge(matches, matches_parent, on='number')\n",
    "jobs_merged = pd.merge(jobs, jobs_parent, on='number')"
   ]
  },
  {
   "cell_type": "code",
   "execution_count": 5,
   "metadata": {},
   "outputs": [],
   "source": [
    "categorical_columns = [\"gender\", \"highest_edu_level\", \"nationality\", \"gendermix_not_allowed\", \"benefit1\", \"benefit2\", \"city\", \"english_proficiency\", \"impairments\", \"major\", \"opposite_gender_coworkers\", \"opposite_gender_manager\", \"first_job_field_preference\", \"second_job_field_preference\", \"bus_covered\", \"childcare_subsidy_offered\", \"dorm_covered\", \"driving_ability_required\", \"education_required\", \"english_proficiency_required\", \"female_requied\", \"free_meals_at_wok\", \"health_insurance_offered\", \"hearing_disability_accepted\", \"housing_subsidy_offered\", \"it_proficiency_required\", \"job_category\", \"job_description\", \"job_production\", \"jordanian_experience_required\", \"literacy_required\", \"male_required\", \"meal_subsidy_offered\", \"night_shifts_required\", \"noncognitive_skill_preference1\", \"noncognitive_skill_preference2\", \"numeracy_requied\", \"physical_disability_accepted\", \"physical_work_abilities_required\", \"problem_solving_required\", \"school_subsidy_offered\", \"specialization_required\", \"speech_disability_accepted\", \"syrian_considered\", \"transport_subsidy_offered\", \"visual_disability_accepted\", \"work_permit_offered\",]\n",
    "all_columns = [\"age\", \"gender\", \"highest_edu_level\", \"will_work_night_shift\", \"nationality\", \"gendermix_not_allowed\", \"will_work_qiz\", \"arab_coworkers\", \"benefit1\", \"benefit2\", \"city\", \"daily_hours_willing_to_work\", \"days_willing_train_unpaid\", \"distance_willing_to_travel\", \"english_proficiency\", \"experience_clerical_work\", \"experience_factory\", \"experience_management_work\", \"experience_manual_labor\", \"experience_professional_work\", \"follow_up_agreement\", \"has_job\", \"impairments\", \"major\", \"nonarab_coworkers\", \"opposite_gender_coworkers\", \"opposite_gender_manager\", \"weekly_days_willing_to_work\", \"will_live_in_dorm\", \"will_train_unpaid\", \"years_education\", \"years_exp\", \"first_job_field_preference\", \"rwage1\", \"second_job_field_preference\", \"hh_income\", \"hired_yes_no\", \"interest_applying\", \"num_children\", \"personal_income\", \"bus_covered\", \"childcare_subsidy_offered\", \"dorm_covered\", \"driving_ability_required\", \"education_required\", \"english_proficiency_required\", \"female_requied\", \"free_meals_at_wok\", \"health_insurance_offered\", \"hearing_disability_accepted\", \"housing_subsidy_offered\", \"it_proficiency_required\", \"job_category\", \"job_description\", \"job_production\", \"jordanian_experience_required\", \"literacy_required\", \"male_required\", \"meal_subsidy_offered\", \"night_shifts_required\", \"noncognitive_skill_preference1\", \"noncognitive_skill_preference2\", \"num_vacancies\", \"numeracy_requied\", \"physical_disability_accepted\", \"physical_work_abilities_required\", \"problem_solving_required\", \"school_subsidy_offered\", \"specialization_required\", \"speech_disability_accepted\", \"syrian_considered\", \"transport_subsidy_offered\", \"visual_disability_accepted\", \"wage_offered\", \"work_permit_offered\", \"years_experience_required\",]\n",
    "scalar_columns = [\"age\", \"daily_hours_willing_to_work\", \"days_willing_train_unpaid\", \"distance_willing_to_travel\", \"years_education\", \"years_exp\", \"rwage1\", \"hh_income\", \"num_children\", \"personal_income\", \"num_vacancies\", \"wage_offered\"]"
   ]
  },
  {
   "cell_type": "code",
   "execution_count": 6,
   "metadata": {},
   "outputs": [],
   "source": [
    "job_seekers['parent_case_id'] = job_seekers['caseid']"
   ]
  },
  {
   "cell_type": "code",
   "execution_count": 7,
   "metadata": {},
   "outputs": [],
   "source": [
    "merged = pd.merge(job_seekers, matches_merged, on='parent_case_id')\n",
    "merged = pd.merge(merged, jobs_merged, on='job_id')\n",
    "\n",
    "merged.to_csv('../match-data/match-v1/merged.csv')"
   ]
  },
  {
   "cell_type": "code",
   "execution_count": 8,
   "metadata": {},
   "outputs": [],
   "source": [
    "formatted = pd.DataFrame()\n",
    "for col in all_columns:\n",
    "    formatted[col] = merged[col]\n",
    "\n",
    "\n",
    "for col in all_columns:\n",
    "    if col not in scalar_columns and col != 'hired_yes_no':\n",
    "        formatted = one_hot_encode(formatted, col)\n",
    "\n",
    "for col in formatted.columns:\n",
    "    formatted[col] = formatted[col].replace(['---'], 0)\n",
    "    \n",
    "formatted.to_csv('../match-data/match-v1/formatted.csv')"
   ]
  },
  {
   "cell_type": "code",
   "execution_count": 9,
   "metadata": {},
   "outputs": [],
   "source": [
    "y = formatted['hired_yes_no']\n",
    "y = y.fillna(0)\n",
    "formatted = formatted.drop(['hired_yes_no'], axis=1)\n"
   ]
  },
  {
   "cell_type": "code",
   "execution_count": 10,
   "metadata": {},
   "outputs": [],
   "source": [
    "for col in formatted.columns:\n",
    "    if col in scalar_columns:\n",
    "        formatted[col] = formatted[col].astype(float)\n",
    "        mean = formatted[col].mean()\n",
    "        formatted[col] = formatted[col].replace(['---'], mean)\n",
    "        formatted[col] = formatted[col].fillna(mean)\n",
    "    else:\n",
    "        formatted[col] = formatted[col].fillna(0)\n",
    "        formatted[col] = formatted[col].astype(int)\n",
    "        formatted[col] = formatted[col].replace(['---'], 0)\n",
    "\n",
    "formatted.to_csv('../match-data/match-v1/X.csv')"
   ]
  },
  {
   "cell_type": "code",
   "execution_count": 11,
   "metadata": {},
   "outputs": [],
   "source": [
    "y=y.astype('int')\n",
    "y.to_csv('../match-data/match-v1/y.csv')"
   ]
  },
  {
   "cell_type": "code",
   "execution_count": 12,
   "metadata": {},
   "outputs": [],
   "source": [
    "X = formatted"
   ]
  },
  {
   "cell_type": "code",
   "execution_count": 13,
   "metadata": {},
   "outputs": [
    {
     "data": {
      "text/plain": [
       "LogisticRegression(C=1.0, class_weight=None, dual=False, fit_intercept=True,\n",
       "          intercept_scaling=1, max_iter=1000, multi_class='ovr', n_jobs=1,\n",
       "          penalty='l2', random_state=None, solver='liblinear', tol=0.0001,\n",
       "          verbose=0, warm_start=False)"
      ]
     },
     "execution_count": 13,
     "metadata": {},
     "output_type": "execute_result"
    }
   ],
   "source": [
    "model = LogisticRegression(max_iter=1000)\n",
    "model.fit(X, y)"
   ]
  },
  {
   "cell_type": "code",
   "execution_count": 14,
   "metadata": {},
   "outputs": [],
   "source": [
    "coef_dict = {}\n",
    "for coef, feat in zip(model.coef_[0], formatted.columns):\n",
    "    coef_dict[feat] = coef"
   ]
  },
  {
   "cell_type": "code",
   "execution_count": 15,
   "metadata": {},
   "outputs": [
    {
     "name": "stderr",
     "output_type": "stream",
     "text": [
      "/home/nolski/code/tashbeek/venv/lib/python3.6/site-packages/ipykernel_launcher.py:7: DeprecationWarning: \n",
      ".ix is deprecated. Please use\n",
      ".loc for label based indexing or\n",
      ".iloc for positional indexing\n",
      "\n",
      "See the documentation here:\n",
      "http://pandas.pydata.org/pandas-docs/stable/indexing.html#ix-indexer-is-deprecated\n",
      "  import sys\n"
     ]
    }
   ],
   "source": [
    "c = {}\n",
    "for k, v in coef_dict.items():\n",
    "    c[k] = [v]\n",
    "    \n",
    "\n",
    "coef_frame = pd.DataFrame.from_dict(c)\n",
    "sorted_frame = coef_frame.columns[coef_frame.ix[coef_frame.last_valid_index()].argsort()]\n",
    "coef_frame.to_csv('../match-data/match-v1/coefs.csv')\n",
    "\n",
    "odds_ratios = np.exp(coef_frame)"
   ]
  },
  {
   "cell_type": "code",
   "execution_count": 16,
   "metadata": {},
   "outputs": [],
   "source": [
    "from sklearn.feature_selection import chi2\n",
    "scores, pvalues = chi2(formatted, y)"
   ]
  },
  {
   "cell_type": "code",
   "execution_count": 17,
   "metadata": {},
   "outputs": [
    {
     "name": "stderr",
     "output_type": "stream",
     "text": [
      "/home/nolski/code/tashbeek/venv/lib/python3.6/site-packages/ipykernel_launcher.py:11: DeprecationWarning: \n",
      ".ix is deprecated. Please use\n",
      ".loc for label based indexing or\n",
      ".iloc for positional indexing\n",
      "\n",
      "See the documentation here:\n",
      "http://pandas.pydata.org/pandas-docs/stable/indexing.html#ix-indexer-is-deprecated\n",
      "  # This is added back by InteractiveShellApp.init_path()\n"
     ]
    }
   ],
   "source": [
    "p_dict = {}\n",
    "for pvalue, feat in zip(pvalues, formatted.columns):\n",
    "    p_dict[feat] = pvalue\n",
    "    \n",
    "c = {}\n",
    "for k, v in p_dict.items():\n",
    "    c[k] = [v]\n",
    "    \n",
    "\n",
    "pval_frame = pd.DataFrame.from_dict(c)\n",
    "sorted_frame = pval_frame.columns[pval_frame.ix[pval_frame.last_valid_index()].argsort()]\n",
    "pval_frame.to_csv('../match-data/match-v1/pvalues.csv')"
   ]
  },
  {
   "cell_type": "code",
   "execution_count": 18,
   "metadata": {},
   "outputs": [
    {
     "data": {
      "text/html": [
       "<div>\n",
       "<style scoped>\n",
       "    .dataframe tbody tr th:only-of-type {\n",
       "        vertical-align: middle;\n",
       "    }\n",
       "\n",
       "    .dataframe tbody tr th {\n",
       "        vertical-align: top;\n",
       "    }\n",
       "\n",
       "    .dataframe thead th {\n",
       "        text-align: right;\n",
       "    }\n",
       "</style>\n",
       "<table border=\"1\" class=\"dataframe\">\n",
       "  <thead>\n",
       "    <tr style=\"text-align: right;\">\n",
       "      <th></th>\n",
       "      <th>age</th>\n",
       "      <th>daily_hours_willing_to_work</th>\n",
       "      <th>days_willing_train_unpaid</th>\n",
       "      <th>distance_willing_to_travel</th>\n",
       "      <th>years_education</th>\n",
       "      <th>years_exp</th>\n",
       "      <th>rwage1</th>\n",
       "      <th>hh_income</th>\n",
       "      <th>num_children</th>\n",
       "      <th>personal_income</th>\n",
       "      <th>...</th>\n",
       "      <th>transport_subsidy_offered-no</th>\n",
       "      <th>transport_subsidy_offered-yes</th>\n",
       "      <th>visual_disability_accepted----</th>\n",
       "      <th>visual_disability_accepted-no</th>\n",
       "      <th>work_permit_offered-no</th>\n",
       "      <th>work_permit_offered-yes</th>\n",
       "      <th>years_experience_required-0.0</th>\n",
       "      <th>years_experience_required-1.0</th>\n",
       "      <th>years_experience_required-2.0</th>\n",
       "      <th>years_experience_required-nan</th>\n",
       "    </tr>\n",
       "  </thead>\n",
       "  <tbody>\n",
       "    <tr>\n",
       "      <th>0</th>\n",
       "      <td>-0.049331</td>\n",
       "      <td>0.085372</td>\n",
       "      <td>-0.032875</td>\n",
       "      <td>0.026224</td>\n",
       "      <td>0.06773</td>\n",
       "      <td>0.051946</td>\n",
       "      <td>-0.622617</td>\n",
       "      <td>0.05232</td>\n",
       "      <td>5.962413e-09</td>\n",
       "      <td>0.000579</td>\n",
       "      <td>...</td>\n",
       "      <td>0.02478</td>\n",
       "      <td>-0.093944</td>\n",
       "      <td>-0.23151</td>\n",
       "      <td>0.162346</td>\n",
       "      <td>-0.084674</td>\n",
       "      <td>0.01551</td>\n",
       "      <td>-0.263141</td>\n",
       "      <td>-0.224032</td>\n",
       "      <td>0.295014</td>\n",
       "      <td>0.122994</td>\n",
       "    </tr>\n",
       "  </tbody>\n",
       "</table>\n",
       "<p>1 rows × 275 columns</p>\n",
       "</div>"
      ],
      "text/plain": [
       "        age  daily_hours_willing_to_work  days_willing_train_unpaid  \\\n",
       "0 -0.049331                     0.085372                  -0.032875   \n",
       "\n",
       "   distance_willing_to_travel  years_education  years_exp    rwage1  \\\n",
       "0                    0.026224          0.06773   0.051946 -0.622617   \n",
       "\n",
       "   hh_income  num_children  personal_income              ...                \\\n",
       "0    0.05232  5.962413e-09         0.000579              ...                 \n",
       "\n",
       "   transport_subsidy_offered-no  transport_subsidy_offered-yes  \\\n",
       "0                       0.02478                      -0.093944   \n",
       "\n",
       "   visual_disability_accepted----  visual_disability_accepted-no  \\\n",
       "0                        -0.23151                       0.162346   \n",
       "\n",
       "   work_permit_offered-no  work_permit_offered-yes  \\\n",
       "0               -0.084674                  0.01551   \n",
       "\n",
       "   years_experience_required-0.0  years_experience_required-1.0  \\\n",
       "0                      -0.263141                      -0.224032   \n",
       "\n",
       "   years_experience_required-2.0  years_experience_required-nan  \n",
       "0                       0.295014                       0.122994  \n",
       "\n",
       "[1 rows x 275 columns]"
      ]
     },
     "metadata": {},
     "output_type": "display_data"
    },
    {
     "data": {
      "text/html": [
       "<div>\n",
       "<style scoped>\n",
       "    .dataframe tbody tr th:only-of-type {\n",
       "        vertical-align: middle;\n",
       "    }\n",
       "\n",
       "    .dataframe tbody tr th {\n",
       "        vertical-align: top;\n",
       "    }\n",
       "\n",
       "    .dataframe thead th {\n",
       "        text-align: right;\n",
       "    }\n",
       "</style>\n",
       "<table border=\"1\" class=\"dataframe\">\n",
       "  <thead>\n",
       "    <tr style=\"text-align: right;\">\n",
       "      <th></th>\n",
       "      <th>age</th>\n",
       "      <th>daily_hours_willing_to_work</th>\n",
       "      <th>days_willing_train_unpaid</th>\n",
       "      <th>distance_willing_to_travel</th>\n",
       "      <th>years_education</th>\n",
       "      <th>years_exp</th>\n",
       "      <th>rwage1</th>\n",
       "      <th>hh_income</th>\n",
       "      <th>num_children</th>\n",
       "      <th>personal_income</th>\n",
       "      <th>...</th>\n",
       "      <th>transport_subsidy_offered-no</th>\n",
       "      <th>transport_subsidy_offered-yes</th>\n",
       "      <th>visual_disability_accepted----</th>\n",
       "      <th>visual_disability_accepted-no</th>\n",
       "      <th>work_permit_offered-no</th>\n",
       "      <th>work_permit_offered-yes</th>\n",
       "      <th>years_experience_required-0.0</th>\n",
       "      <th>years_experience_required-1.0</th>\n",
       "      <th>years_experience_required-2.0</th>\n",
       "      <th>years_experience_required-nan</th>\n",
       "    </tr>\n",
       "  </thead>\n",
       "  <tbody>\n",
       "    <tr>\n",
       "      <th>0</th>\n",
       "      <td>0.045431</td>\n",
       "      <td>0.420555</td>\n",
       "      <td>0.519286</td>\n",
       "      <td>0.445126</td>\n",
       "      <td>0.960187</td>\n",
       "      <td>0.000781</td>\n",
       "      <td>0.83508</td>\n",
       "      <td>0.0</td>\n",
       "      <td>0.001806</td>\n",
       "      <td>0.0</td>\n",
       "      <td>...</td>\n",
       "      <td>0.67623</td>\n",
       "      <td>0.079208</td>\n",
       "      <td>0.045815</td>\n",
       "      <td>0.272166</td>\n",
       "      <td>0.062413</td>\n",
       "      <td>0.057838</td>\n",
       "      <td>0.359989</td>\n",
       "      <td>0.543152</td>\n",
       "      <td>0.162871</td>\n",
       "      <td>0.162871</td>\n",
       "    </tr>\n",
       "  </tbody>\n",
       "</table>\n",
       "<p>1 rows × 275 columns</p>\n",
       "</div>"
      ],
      "text/plain": [
       "        age  daily_hours_willing_to_work  days_willing_train_unpaid  \\\n",
       "0  0.045431                     0.420555                   0.519286   \n",
       "\n",
       "   distance_willing_to_travel  years_education  years_exp   rwage1  hh_income  \\\n",
       "0                    0.445126         0.960187   0.000781  0.83508        0.0   \n",
       "\n",
       "   num_children  personal_income              ...                \\\n",
       "0      0.001806              0.0              ...                 \n",
       "\n",
       "   transport_subsidy_offered-no  transport_subsidy_offered-yes  \\\n",
       "0                       0.67623                       0.079208   \n",
       "\n",
       "   visual_disability_accepted----  visual_disability_accepted-no  \\\n",
       "0                        0.045815                       0.272166   \n",
       "\n",
       "   work_permit_offered-no  work_permit_offered-yes  \\\n",
       "0                0.062413                 0.057838   \n",
       "\n",
       "   years_experience_required-0.0  years_experience_required-1.0  \\\n",
       "0                       0.359989                       0.543152   \n",
       "\n",
       "   years_experience_required-2.0  years_experience_required-nan  \n",
       "0                       0.162871                       0.162871  \n",
       "\n",
       "[1 rows x 275 columns]"
      ]
     },
     "metadata": {},
     "output_type": "display_data"
    },
    {
     "data": {
      "text/html": [
       "<div>\n",
       "<style scoped>\n",
       "    .dataframe tbody tr th:only-of-type {\n",
       "        vertical-align: middle;\n",
       "    }\n",
       "\n",
       "    .dataframe tbody tr th {\n",
       "        vertical-align: top;\n",
       "    }\n",
       "\n",
       "    .dataframe thead th {\n",
       "        text-align: right;\n",
       "    }\n",
       "</style>\n",
       "<table border=\"1\" class=\"dataframe\">\n",
       "  <thead>\n",
       "    <tr style=\"text-align: right;\">\n",
       "      <th></th>\n",
       "      <th>age</th>\n",
       "      <th>daily_hours_willing_to_work</th>\n",
       "      <th>days_willing_train_unpaid</th>\n",
       "      <th>distance_willing_to_travel</th>\n",
       "      <th>years_education</th>\n",
       "      <th>years_exp</th>\n",
       "      <th>rwage1</th>\n",
       "      <th>hh_income</th>\n",
       "      <th>num_children</th>\n",
       "      <th>personal_income</th>\n",
       "      <th>...</th>\n",
       "      <th>transport_subsidy_offered-no</th>\n",
       "      <th>transport_subsidy_offered-yes</th>\n",
       "      <th>visual_disability_accepted----</th>\n",
       "      <th>visual_disability_accepted-no</th>\n",
       "      <th>work_permit_offered-no</th>\n",
       "      <th>work_permit_offered-yes</th>\n",
       "      <th>years_experience_required-0.0</th>\n",
       "      <th>years_experience_required-1.0</th>\n",
       "      <th>years_experience_required-2.0</th>\n",
       "      <th>years_experience_required-nan</th>\n",
       "    </tr>\n",
       "  </thead>\n",
       "  <tbody>\n",
       "    <tr>\n",
       "      <th>0</th>\n",
       "      <td>0.951866</td>\n",
       "      <td>1.089123</td>\n",
       "      <td>0.967659</td>\n",
       "      <td>1.026571</td>\n",
       "      <td>1.070076</td>\n",
       "      <td>1.053319</td>\n",
       "      <td>0.536539</td>\n",
       "      <td>1.053713</td>\n",
       "      <td>1.0</td>\n",
       "      <td>1.000579</td>\n",
       "      <td>...</td>\n",
       "      <td>1.02509</td>\n",
       "      <td>0.910333</td>\n",
       "      <td>0.793334</td>\n",
       "      <td>1.176268</td>\n",
       "      <td>0.918812</td>\n",
       "      <td>1.015631</td>\n",
       "      <td>0.768634</td>\n",
       "      <td>0.799289</td>\n",
       "      <td>1.343146</td>\n",
       "      <td>1.130878</td>\n",
       "    </tr>\n",
       "  </tbody>\n",
       "</table>\n",
       "<p>1 rows × 275 columns</p>\n",
       "</div>"
      ],
      "text/plain": [
       "        age  daily_hours_willing_to_work  days_willing_train_unpaid  \\\n",
       "0  0.951866                     1.089123                   0.967659   \n",
       "\n",
       "   distance_willing_to_travel  years_education  years_exp    rwage1  \\\n",
       "0                    1.026571         1.070076   1.053319  0.536539   \n",
       "\n",
       "   hh_income  num_children  personal_income              ...                \\\n",
       "0   1.053713           1.0         1.000579              ...                 \n",
       "\n",
       "   transport_subsidy_offered-no  transport_subsidy_offered-yes  \\\n",
       "0                       1.02509                       0.910333   \n",
       "\n",
       "   visual_disability_accepted----  visual_disability_accepted-no  \\\n",
       "0                        0.793334                       1.176268   \n",
       "\n",
       "   work_permit_offered-no  work_permit_offered-yes  \\\n",
       "0                0.918812                 1.015631   \n",
       "\n",
       "   years_experience_required-0.0  years_experience_required-1.0  \\\n",
       "0                       0.768634                       0.799289   \n",
       "\n",
       "   years_experience_required-2.0  years_experience_required-nan  \n",
       "0                       1.343146                       1.130878  \n",
       "\n",
       "[1 rows x 275 columns]"
      ]
     },
     "metadata": {},
     "output_type": "display_data"
    }
   ],
   "source": [
    "display(coef_frame)\n",
    "display(pval_frame)\n",
    "display(odds_ratios)"
   ]
  },
  {
   "cell_type": "code",
   "execution_count": 19,
   "metadata": {},
   "outputs": [],
   "source": [
    "combined = coef_frame.append(pval_frame).append(np.exp(odds_ratios))\n",
    "combined.to_csv('../match-data/match-v1/combined.csv')"
   ]
  },
  {
   "cell_type": "code",
   "execution_count": null,
   "metadata": {},
   "outputs": [],
   "source": []
  }
 ],
 "metadata": {
  "kernelspec": {
   "display_name": "Python 3",
   "language": "python",
   "name": "python3"
  },
  "language_info": {
   "codemirror_mode": {
    "name": "ipython",
    "version": 3
   },
   "file_extension": ".py",
   "mimetype": "text/x-python",
   "name": "python",
   "nbconvert_exporter": "python",
   "pygments_lexer": "ipython3",
   "version": "3.6.6"
  }
 },
 "nbformat": 4,
 "nbformat_minor": 2
}
