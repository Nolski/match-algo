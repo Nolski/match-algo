{
 "cells": [
  {
   "cell_type": "code",
   "execution_count": 1,
   "metadata": {},
   "outputs": [],
   "source": [
    "import numpy as np\n",
    "import pandas as pd\n",
    "import statsmodels.api as sm\n",
    "import matplotlib.pyplot as plt\n",
    "\n",
    "from util import (\n",
    "    np_age, np_concat, np_age_concat, get_lat, get_lng, \n",
    "    update_profession)"
   ]
  },
  {
   "cell_type": "code",
   "execution_count": 2,
   "metadata": {},
   "outputs": [],
   "source": [
    "unclean_intakes = pd.read_csv('../match-data/forms/z_JS_Intake_FormTracker-Forms.csv')\n",
    "intakes = pd.DataFrame()\n",
    "\n",
    "month_all = pd.read_csv('../match-data/forms/z_JS_Monthly_Followup_all-Forms.csv')\n",
    "month_my = pd.read_csv('../match-data/forms/z_JS_Monthly_Followup_My-Forms.csv')\n",
    "cash = pd.read_csv('../match-data/forms/z_JS_Cash_Dispursement-Forms.csv')\n",
    "treatment = pd.read_csv('../match-data/forms/z_JS_Treatment_Feedback-Forms.csv')\n",
    "match = pd.read_csv('../match-data/forms/z_JS_Add_Match.csv')\n",
    "\n",
    "month_all['form_name'] = 'Monthly Followup'\n",
    "month_my['form_name'] = 'Monthly Followup'\n",
    "cash ['form_name'] = 'Cash Dispursement'\n",
    "treatment['form_name'] = 'Treatment Feedback'\n",
    "match['form_name'] = 'Add Match'\n"
   ]
  },
  {
   "cell_type": "code",
   "execution_count": 3,
   "metadata": {},
   "outputs": [],
   "source": [
    "unclean_intakes['first_name'] = unclean_intakes['first_name'].replace(['---'],\n",
    "                                                                      '')\n",
    "unclean_intakes['form.cd.fname'] = unclean_intakes['form.cd.fname'].replace(['---'], '')\n",
    "unclean_intakes['last_name'] = unclean_intakes['last_name'].replace(['---'],\n",
    "                                                                    '')\n",
    "unclean_intakes['form.cd.lname'] = unclean_intakes['form.cd.lname'].replace(['---'], '')\n",
    "\n",
    "intakes['first-name'] = np_concat(unclean_intakes['first_name'],\n",
    "                                unclean_intakes['form.cd.fname'])\n",
    "intakes['last-name'] = np_concat(unclean_intakes['last_name'],\n",
    "                               unclean_intakes['form.cd.lname'])\n",
    "\n",
    "\n",
    "unclean_intakes['unhcr_id'] = unclean_intakes['unhcr_id'].replace(['---'], '')\n",
    "unclean_intakes['form.cd.unid'] = unclean_intakes['form.cd.unid'].replace(['---'], '')\n",
    "\n",
    "intakes['unchr_id'] = np_concat(unclean_intakes['unhcr_id'],\n",
    "                                unclean_intakes['form.cd.unid'])\n",
    "\n",
    "unclean_intakes['national_id'] = unclean_intakes['national_id'].replace(['---'], '')\n",
    "unclean_intakes['form.cd.joid'] = unclean_intakes['form.cd.joid'].replace(['---'], '')\n",
    "intakes['national_id'] = np_concat(unclean_intakes['national_id'],\n",
    "                               unclean_intakes['form.cd.joid'])\n",
    "\n",
    "intakes['moi'] = unclean_intakes['moi']\n",
    "intakes['case_id'] = unclean_intakes['case_id']\n",
    "intakes['interview_date'] = unclean_intakes['interview_date']\n",
    "intakes['form_name'] = 'Job Seeker Intake'"
   ]
  },
  {
   "cell_type": "code",
   "execution_count": 4,
   "metadata": {},
   "outputs": [],
   "source": [
    "finished = pd.concat([intakes, cash, month_all, month_my, treatment, match], sort=True)\n",
    "finished.to_csv('../match-data/forms/finished.csv')"
   ]
  },
  {
   "cell_type": "code",
   "execution_count": null,
   "metadata": {},
   "outputs": [],
   "source": []
  }
 ],
 "metadata": {
  "kernelspec": {
   "display_name": "Python 3",
   "language": "python",
   "name": "python3"
  },
  "language_info": {
   "codemirror_mode": {
    "name": "ipython",
    "version": 3
   },
   "file_extension": ".py",
   "mimetype": "text/x-python",
   "name": "python",
   "nbconvert_exporter": "python",
   "pygments_lexer": "ipython3",
   "version": "3.6.6"
  }
 },
 "nbformat": 4,
 "nbformat_minor": 2
}
