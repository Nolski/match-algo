{
 "cells": [
  {
   "cell_type": "code",
   "execution_count": 3,
   "metadata": {},
   "outputs": [],
   "source": [
    "import numpy as np\n",
    "from numpy.random import randn\n",
    "from numpy.matlib import repmat\n",
    "from scipy.stats import norm\n",
    "from scipy.optimize import fmin\n",
    "from scipy.special import erf\n",
    "import pandas as pd\n",
    "import statsmodels.api as sm\n",
    "import matplotlib.pyplot as plt\n",
    "from patsy import dmatrices\n",
    "from sklearn.linear_model import LogisticRegression\n",
    "from sklearn.cross_validation import train_test_split\n",
    "from sklearn import metrics\n",
    "from sklearn.cross_validation import cross_val_score"
   ]
  },
  {
   "cell_type": "code",
   "execution_count": 4,
   "metadata": {},
   "outputs": [],
   "source": [
    "K = 5;\n",
    "Respondents = 1;\n",
    "Options = 50;\n",
    "\n",
    "# %% First, draw parameters...\n",
    "\n",
    "Params = randn(Respondents, K)\n",
    "ID = 1\n",
    "BigParams = repmat(Params, Options, 1)\n",
    "BigID = repmat(ID, Options, 1)\n",
    "\n",
    "\n",
    "# %% Second, draw data...\n",
    "x = randn(Respondents * Options, K)\n",
    "x[:, 0] = 1\n",
    "\n",
    "# %% Third, simulate the outcome...\n",
    "xhat = np.sum(np.multiply(x, BigParams), axis=1)\n",
    "trueprob = norm.cdf(xhat)\n",
    "epsilon = randn(Respondents * Options, 1)\n",
    "\n",
    "y = (xhat + epsilon >= 0)"
   ]
  },
  {
   "cell_type": "code",
   "execution_count": null,
   "metadata": {},
   "outputs": [],
   "source": [
    "pdx = pd.DataFrame(x)\n",
    "pdy = pd.DataFrame(y)"
   ]
  }
 ],
 "metadata": {
  "kernelspec": {
   "display_name": "Python 3",
   "language": "python",
   "name": "python3"
  },
  "language_info": {
   "codemirror_mode": {
    "name": "ipython",
    "version": 3
   },
   "file_extension": ".py",
   "mimetype": "text/x-python",
   "name": "python",
   "nbconvert_exporter": "python",
   "pygments_lexer": "ipython3",
   "version": "3.6.5"
  }
 },
 "nbformat": 4,
 "nbformat_minor": 2
}
