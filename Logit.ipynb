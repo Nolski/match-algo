{
 "cells": [
  {
   "cell_type": "markdown",
   "metadata": {},
   "source": [
    "# First let's import the modules"
   ]
  },
  {
   "cell_type": "code",
   "execution_count": 1,
   "metadata": {},
   "outputs": [],
   "source": [
    "from math import sqrt, log, pi\n",
    "\n",
    "from numpy.random import randn\n",
    "from numpy.matlib import repmat\n",
    "from scipy.stats import norm\n",
    "from scipy.optimize import fmin\n",
    "from scipy.special import erf\n",
    "import pandas as pd\n",
    "import numpy as np\n",
    "\n",
    "from matplotlib import pyplot"
   ]
  },
  {
   "cell_type": "markdown",
   "metadata": {},
   "source": [
    "# Now for our logit prediction function"
   ]
  },
  {
   "cell_type": "code",
   "execution_count": 2,
   "metadata": {},
   "outputs": [],
   "source": [
    "def ll(beta, y, x):\n",
    "    pred_prob = norm.cdf(np.matmul(x, beta))\n",
    "\n",
    "    pred_prob_log = np.log(pred_prob)\n",
    "    inverse_y = (1 - y)\n",
    "    inverse_log_pred_prob = np.log(1 - pred_prob)\n",
    "\n",
    "    s = (y * pred_prob_log) + (inverse_y * inverse_log_pred_prob)\n",
    "    loglikelihood = np.sum(s)\n",
    "\n",
    "    sigma = 1\n",
    "    npdf = norm.pdf(beta / sigma)\n",
    "\n",
    "    return loglikelihood + np.sum(np.log(npdf))\n",
    "\n",
    "\n",
    "def predicted_probability(y, x):\n",
    "    guess = np.zeros((x.shape[1], 1))\n",
    "    # Maximise the values for the logit\n",
    "    betahat = fmin(lambda beta, y, x: -ll(beta, y, x), x0=guess, args=(y, x), maxiter=5000)\n",
    "    return norm.cdf(np.matmul(x, betahat))\n"
   ]
  },
  {
   "cell_type": "markdown",
   "metadata": {},
   "source": [
    "# Now we generate the data and simulate the outcome..."
   ]
  },
  {
   "cell_type": "code",
   "execution_count": 6,
   "metadata": {},
   "outputs": [],
   "source": [
    "\"\"\"\n",
    "-- K is the number of variables on the CV; Respondents is the number of firms (set to 1 for an example now); Options is the number of CVs to be assessed.\n",
    "-- Params are the 'true' weights that are being attached to each of the K characteristics by each firm.\n",
    "-- y is a 'yes/no' decision (binary) on whether they say that they would or would not interview each intern.\n",
    "-- EstPredictedProb is a separate function that estimates a probit, firm by firm, and then predicts the probabilities.\n",
    "-- The last line ('scatter') is just visualising the 'true' probability of interview against the estimated probability.\n",
    "-- If you dig into EstPredictedProb and then ProbitLL, you will see the last term of LL -- i.e this is where I'm imposing the prior on the parameters, by way of a penalty \n",
    "\"\"\"\n",
    "\n",
    "\n",
    "K = 5; # Number of variables on CV\n",
    "Respondents = 1; # Number of open jobs\n",
    "Options = 50; # Number of job seekers\n",
    "\n",
    "# %% First, draw parameters...\n",
    "\n",
    "Params = randn(Respondents, K) # True weights for CV variables\n",
    "ID = 1 # Dunno\n",
    "BigParams = repmat(Params, Options, 1)\n",
    "BigID = repmat(ID, Options, 1)\n",
    "\n",
    "\n",
    "# %% Second, draw data...\n",
    "x = randn(Respondents * Options, K)\n",
    "x[:, 0] = 1\n",
    "\n",
    "# %% Third, simulate the outcome...\n",
    "xhat = np.sum(np.multiply(x, BigParams), axis=1)\n",
    "trueprob = norm.cdf(xhat)\n",
    "epsilon = randn(Respondents * Options, 1).reshape(Options)\n",
    "\n",
    "y = (xhat + epsilon >= 0) # True/False table on whether firm will interview candidate\n",
    "\n",
    "K = 5;\n",
    "Respondents = 1;\n",
    "Options = 50;\n",
    "\n",
    "# %% First, draw parameters...\n",
    "\n",
    "Params = randn(Respondents, K)\n",
    "ID = 1\n",
    "BigParams = repmat(Params, Options, 1)\n",
    "BigID = repmat(ID, Options, 1)\n",
    "\n",
    "\n",
    "# %% Second, draw data...\n",
    "x = randn(Respondents * Options, K)\n",
    "x[:, 0] = 1\n",
    "\n",
    "# %% Third, simulate the outcome...\n",
    "xhat = np.sum(np.multiply(x, BigParams), axis=1)\n",
    "trueprob = norm.cdf(xhat)\n",
    "epsilon = randn(Respondents * Options, 1)\n",
    "\n",
    "y = (xhat + epsilon >= 0)\n"
   ]
  },
  {
   "cell_type": "markdown",
   "metadata": {},
   "source": [
    "# And now let's run the prediction"
   ]
  },
  {
   "cell_type": "code",
   "execution_count": 7,
   "metadata": {},
   "outputs": [
    {
     "name": "stdout",
     "output_type": "stream",
     "text": [
      "Optimization terminated successfully.\n",
      "         Current function value: 1052.799238\n",
      "         Iterations: 364\n",
      "         Function evaluations: 596\n"
     ]
    },
    {
     "data": {
      "image/png": "[encoded data removed]",
      "text/plain": [
       "<Figure size 432x288 with 1 Axes>"
      ]
     },
     "metadata": {},
     "output_type": "display_data"
    }
   ],
   "source": [
    "# %% Fourth, estimate...\n",
    "predprob = np.empty((Respondents * Options, 1))\n",
    "predprob[:] = np.nan\n",
    "\n",
    "for count in range(Respondents):\n",
    "    yy = y\n",
    "    xx = x[:]\n",
    "    newprob = predicted_probability(\n",
    "        yy,\n",
    "        xx\n",
    "    )\n",
    "    predprob = newprob\n",
    "\n",
    "pyplot.scatter(trueprob, predprob)\n",
    "pyplot.show()\n"
   ]
  }
 ],
 "metadata": {
  "kernelspec": {
   "display_name": "Python 3",
   "language": "python",
   "name": "python3"
  },
  "language_info": {
   "codemirror_mode": {
    "name": "ipython",
    "version": 3
   },
   "file_extension": ".py",
   "mimetype": "text/x-python",
   "name": "python",
   "nbconvert_exporter": "python",
   "pygments_lexer": "ipython3",
   "version": "3.6.5"
  }
 },
 "nbformat": 4,
 "nbformat_minor": 2
}
