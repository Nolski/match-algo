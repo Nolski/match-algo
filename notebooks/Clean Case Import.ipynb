{
 "cells": [
  {
   "cell_type": "code",
   "execution_count": null,
   "metadata": {},
   "outputs": [],
   "source": [
    "import numpy as np\n",
    "import pandas as pd"
   ]
  },
  {
   "cell_type": "code",
   "execution_count": 2,
   "metadata": {},
   "outputs": [],
   "source": [
    "def concat(col1, col2, debug=False):\n",
    "    prohibited = ['', '---', 'nan']\n",
    "    if col1 not in prohibited:\n",
    "        return col1\n",
    "    elif col2 not in prohibited:\n",
    "        return col2\n",
    "    else:\n",
    "        return ''\n",
    "\n",
    "np_concat = np.vectorize(concat)"
   ]
  },
  {
   "cell_type": "code",
   "execution_count": 3,
   "metadata": {},
   "outputs": [],
   "source": [
    "unclean = pd.read_csv('../match-data/case-import/uncleaned.csv')\n",
    "unclean.replace([''], '---')\n",
    "unclean.replace(['---'], '')\n",
    "unclean.fillna('', inplace=True)\n",
    "\n",
    "clean = pd.DataFrame()"
   ]
  },
  {
   "cell_type": "code",
   "execution_count": 4,
   "metadata": {},
   "outputs": [],
   "source": [
    "unclean['highest_edu_level'] = unclean['highest_edu_level'].replace(['1'], 'none')\n",
    "unclean['highest_edu_level'] = unclean['highest_edu_level'].replace(['2'], 'primary')\n",
    "unclean['highest_edu_level'] = unclean['highest_edu_level'].replace(['3'], 'secondary')\n",
    "unclean['highest_edu_level'] = unclean['highest_edu_level'].replace(['4'], 'college')\n",
    "unclean['highest_edu_level'] = unclean['highest_edu_level'].replace(['5'], 'diploma')\n",
    "unclean['highest_edu_level'] = unclean['highest_edu_level'].replace(['6'], 'bachelors')\n",
    "unclean['highest_edu_level'] = unclean['highest_edu_level'].replace(['7'], 'masters')\n",
    "unclean['highest_edu_level'] = unclean['highest_edu_level'].replace(['7'], 'doctorate')"
   ]
  },
  {
   "cell_type": "code",
   "execution_count": 5,
   "metadata": {},
   "outputs": [],
   "source": [
    "unclean['gender'] = unclean['gender'].replace(['0'], 'female')\n",
    "unclean['gender'] = unclean['gender'].replace(['1'], 'male')"
   ]
  },
  {
   "cell_type": "code",
   "execution_count": 6,
   "metadata": {},
   "outputs": [],
   "source": [
    "def map_countries(col):\n",
    "    col = col.replace(['1'], 'jordan')\n",
    "    col = col.replace(['2'], 'syria')\n",
    "    col = col.replace(['3'], 'palestine')\n",
    "    return col\n",
    "\n",
    "\n",
    "unclean['nationality'] = unclean['nationality'].replace(['1'],\n",
    "                                                                'jordanian')\n",
    "unclean['nationality'] = unclean['nationality'].replace(['2'],\n",
    "                                                                'syrian')"
   ]
  },
  {
   "cell_type": "code",
   "execution_count": 7,
   "metadata": {},
   "outputs": [],
   "source": [
    "unclean['marital_status'] = unclean['marital_status'].replace(['1'], 'married')\n",
    "unclean['marital_status'] = unclean['marital_status'].replace(['2'], 'single')\n",
    "unclean['marital_status'] = unclean['marital_status'].replace(['3'], 'divoriced')\n",
    "unclean['marital_status'] = unclean['marital_status'].replace(['4'], 'widowed')"
   ]
  },
  {
   "cell_type": "code",
   "execution_count": 8,
   "metadata": {},
   "outputs": [],
   "source": [
    "def map_workspace(col):\n",
    "    col = col.replace(['1'], 'office')\n",
    "    col = col.replace(['2'], 'home')\n",
    "    col = col.replace(['3'], 'souq')\n",
    "    col = col.replace(['4'], 'farm')\n",
    "    col = col.replace(['5'], 'factory')\n",
    "    col = col.replace(['6'], 'mine')\n",
    "    col = col.replace(['7'], 'construction_site')\n",
    "    col = col.replace(['8'], 'garage')\n",
    "    col = col.replace(['9'], 'transport')\n",
    "    col = col.replace(['10'], 'religious_building')\n",
    "    col = col.replace(['11'], 'hospital')\n",
    "    col = col.replace(['12'], 'school')\n",
    "    col = col.replace(['13'], 'hotel')\n",
    "    col = col.replace(['14'], 'restaraunt')\n",
    "    return col\n",
    "unclean['workspace_preference'] = map_workspace(unclean['workspace_preference'])"
   ]
  },
  {
   "cell_type": "code",
   "execution_count": 9,
   "metadata": {},
   "outputs": [],
   "source": [
    "unclean['computer_experience'] = unclean['computer_experience'].replace(['0'], 'none')\n",
    "unclean['computer_experience'] = unclean['computer_experience'].replace(['1'], 'basic')\n",
    "unclean['computer_experience'] = unclean['computer_experience'].replace(['2'], 'word_processing')\n",
    "unclean['computer_experience'] = unclean['computer_experience'].replace(['3'], 'specialized')\n",
    "unclean['computer_experience'] = unclean['computer_experience'].replace(['4'], 'programmer')"
   ]
  },
  {
   "cell_type": "code",
   "execution_count": 10,
   "metadata": {},
   "outputs": [],
   "source": [
    "unclean['english_proficiency'] = unclean['english_proficiency'].replace(['0'], 'not_literate')\n",
    "unclean['english_proficiency'] = unclean['english_proficiency'].replace(['1'], 'few_phrases')\n",
    "unclean['english_proficiency'] = unclean['english_proficiency'].replace(['2'], 'simple_phrases')\n",
    "unclean['english_proficiency'] = unclean['english_proficiency'].replace(['3'], 'extended_conversation')\n",
    "unclean['english_proficiency'] = unclean['english_proficiency'].replace(['4'], 'literate')"
   ]
  },
  {
   "cell_type": "code",
   "execution_count": 11,
   "metadata": {},
   "outputs": [],
   "source": [
    "clean['manager_opposite_gender'] = unclean['manager_opposite_gender'].replace(['0'], 'will_refuse')\n",
    "clean['manager_opposite_gender'] = unclean['manager_opposite_gender'].replace(['1'], 'no_issue')"
   ]
  },
  {
   "cell_type": "code",
   "execution_count": 12,
   "metadata": {},
   "outputs": [],
   "source": [
    "unclean['specialization'] = unclean['specialization'].replace(['1'], 'engineering')\n",
    "unclean['specialization'] = unclean['specialization'].replace(['2'], 'business_econ')\n",
    "unclean['specialization'] = unclean['specialization'].replace(['3'], 'natural_science')\n",
    "unclean['specialization'] = unclean['specialization'].replace(['4'], 'social_science')\n",
    "unclean['specialization'] = unclean['specialization'].replace(['5'], 'medical')\n",
    "unclean['specialization'] = unclean['specialization'].replace(['6'], 'agriculture')\n",
    "unclean['specialization'] = unclean['specialization'].replace(['7'], 'education')\n",
    "unclean['specialization'] = unclean['specialization'].replace(['8'], 'automotive')\n",
    "unclean['specialization'] = unclean['specialization'].replace(['9'], 'electrical')\n",
    "unclean['specialization'] = unclean['specialization'].replace(['10'], 'construction')\n",
    "unclean['specialization'] = unclean['specialization'].replace(['11'], 'it')\n",
    "unclean['specialization'] = unclean['specialization'].replace(['12'], 'manufacturing')\n",
    "unclean['specialization'] = unclean['specialization'].replace(['13'], 'architecture')\n",
    "unclean['specialization'] = unclean['specialization'].replace(['14'], 'carpentry')\n",
    "unclean['specialization'] = unclean['specialization'].replace(['15'], 'textile')"
   ]
  },
  {
   "cell_type": "code",
   "execution_count": 13,
   "metadata": {
    "code_folding": [
     0.0
    ]
   },
   "outputs": [],
   "source": [
    "def map_method_id(col):\n",
    "    col = col.replace(['1'], 'irc_beneficiaries')\n",
    "    col = col.replace(['2'], 'other_irc')\n",
    "    col = col.replace(['3'], 'community_leader')\n",
    "    col = col.replace(['4'], 'client_referrals')\n",
    "    col = col.replace(['5'], 'social_media')\n",
    "    col = col.replace(['6'], 'home_visit')\n",
    "    col = col.replace(['7'], 'partner_referral')\n",
    "    "
   ]
  },
  {
   "cell_type": "code",
   "execution_count": 14,
   "metadata": {
    "code_folding": [
     0.0
    ]
   },
   "outputs": [],
   "source": [
    "def map_cities(col):\n",
    "    col = col.replace([1], 'mafraq')\n",
    "    col = col.replace([2], 'amman')\n",
    "    col = col.replace([3], 'irbid')\n",
    "    col = col.replace([4], 'zarqa')\n",
    "    return col"
   ]
  },
  {
   "cell_type": "code",
   "execution_count": 15,
   "metadata": {
    "code_folding": [
     0.0
    ]
   },
   "outputs": [],
   "source": [
    "def update_profession(col):\n",
    "    col = col.replace(['10'], 'healthcare_tech')\n",
    "    col = col.replace(['11'], 'healthcare_support')\n",
    "    col = col.replace(['12'], 'protective_science')\n",
    "    col = col.replace(['13'], 'food')\n",
    "    col = col.replace(['14'], 'janitor')\n",
    "    col = col.replace(['15'], 'salon')\n",
    "    col = col.replace(['16'], 'sales')\n",
    "    col = col.replace(['17'], 'admin')\n",
    "    col = col.replace(['18'], 'agriculture')\n",
    "    col = col.replace(['19'], 'construction')\n",
    "    col = col.replace(['20'], 'repair')\n",
    "    col = col.replace(['21'], 'production')\n",
    "    col = col.replace(['22'], 'driving')\n",
    "    col = col.replace(['23'], 'military_police')\n",
    "    col = col.replace(['24'], 'automotive')\n",
    "    col = col.replace(['1'], 'management')\n",
    "    col = col.replace(['2'], 'business')\n",
    "    col = col.replace(['3'], 'computer')\n",
    "    col = col.replace(['4'], 'engineering')\n",
    "    col = col.replace(['5'], 'social_science')\n",
    "    col = col.replace(['6'], 'social_service')\n",
    "    col = col.replace(['7'], 'law')\n",
    "    col = col.replace(['8'], 'teaching')\n",
    "    col = col.replace(['9'], 'media')\n",
    "    return col"
   ]
  },
  {
   "cell_type": "code",
   "execution_count": 16,
   "metadata": {
    "code_folding": [
     0.0
    ]
   },
   "outputs": [],
   "source": [
    "def map_relation(col):\n",
    "    col = col.replace([1], 'me')\n",
    "    col = col.replace([2], 'spouse')\n",
    "    col = col.replace([3], 'mother')\n",
    "    col = col.replace([4], 'father')\n",
    "    col = col.replace([5], 'aunt_uncle')\n",
    "    col = col.replace([6], 'sibling')\n",
    "    col = col.replace([7], 'friend')\n",
    "    col = col.replace([8], 'cousin')\n",
    "    col = col.replace([9], 'other')\n",
    "    col = col.replace([10], 'employer')\n",
    "    col = col.replace([11], 'unrelated')\n",
    "    col = col.replace([12], 'child')\n",
    "    return col"
   ]
  },
  {
   "cell_type": "code",
   "execution_count": 17,
   "metadata": {
    "code_folding": [
     0.0
    ]
   },
   "outputs": [],
   "source": [
    "def map_time(col):\n",
    "    col = col.replace(['1'], '8_11am')\n",
    "    col = col.replace(['2'], '11_3pm')\n",
    "    col = col.replace(['3'], '3_6pm')\n",
    "    col = col.replace(['4'], 'anytime')\n",
    "    return col"
   ]
  },
  {
   "cell_type": "code",
   "execution_count": 18,
   "metadata": {
    "code_folding": [
     0.0
    ]
   },
   "outputs": [],
   "source": [
    "def map_size(col):\n",
    "    col = col.replace(['1'], 'large_city')\n",
    "    col = col.replace(['2'], 'large_town')\n",
    "    col = col.replace(['3'], 'small_town')\n",
    "    col = col.replace(['4'], 'rural')\n",
    "    return col"
   ]
  },
  {
   "cell_type": "code",
   "execution_count": 19,
   "metadata": {
    "code_folding": [
     0.0
    ]
   },
   "outputs": [],
   "source": [
    "def map_support(col):\n",
    "    col = col.replace(['12'], 'daycare_subsidy', regex=True)\n",
    "    col = col.replace(['11'], 'support_voucher', regex=True)\n",
    "    col = col.replace(['10'], 'school_subsidy', regex=True)\n",
    "    col = col.replace(['0'], 'none', regex=True)\n",
    "    col = col.replace(['1'], 'transport', regex=True)\n",
    "    col = col.replace(['2'], 'bus', regex=True)\n",
    "    col = col.replace(['3'], 'housing_subsidy', regex=True)\n",
    "    col = col.replace(['4'], 'housing_space', regex=True)\n",
    "    col = col.replace(['5'], 'meal_subsidy', regex=True)\n",
    "    col = col.replace(['6'], 'work_meals', regex=True)\n",
    "    col = col.replace(['7'], 'childcare_subsidy', regex=True)\n",
    "    col = col.replace(['8'], 'health_insurance', regex=True)\n",
    "    col = col.replace(['9'], 'work_permit', regex=True)\n",
    "    return col\n",
    "    "
   ]
  },
  {
   "cell_type": "code",
   "execution_count": 20,
   "metadata": {
    "code_folding": [
     0.0
    ]
   },
   "outputs": [],
   "source": [
    "def map_work_permit_status(col):\n",
    "    col = col.replace(['1'], 'employer_specific', regex=True)\n",
    "    col = col.replace(['2'], 'position_specific', regex=True)\n",
    "    col = col.replace(['3'], 'both', regex=True)\n",
    "    col = col.replace(['4'], 'neither', regex=True)\n",
    "    return col\n",
    "    "
   ]
  },
  {
   "cell_type": "code",
   "execution_count": 21,
   "metadata": {
    "code_folding": [
     0.0
    ]
   },
   "outputs": [],
   "source": [
    "def map_permit_barriers(col):\n",
    "    col = col.replace(['1'], 'too_complicated', regex=True)\n",
    "    col = col.replace(['2'], 'too_expensive', regex=True)\n",
    "    col = col.replace(['3'], 'no_employer_assistance', regex=True)\n",
    "    col = col.replace(['4'], 'limits_mobility', regex=True)\n",
    "    col = col.replace(['5'], 'not_enough_benefits', regex=True)\n",
    "    col = col.replace(['6'], 'employer_exploitation', regex=True)\n",
    "    col = col.replace(['7'], 'unfamiliar_with_permit', regex=True)\n",
    "    return col\n",
    "    "
   ]
  },
  {
   "cell_type": "code",
   "execution_count": 22,
   "metadata": {
    "code_folding": [
     0.0
    ]
   },
   "outputs": [],
   "source": [
    "def map_employment_terms(col):\n",
    "    col = col.replace(['2'], 'contract', regex=True)\n",
    "    col = col.replace(['3'], 'casual', regex=True)\n",
    "    return col\n",
    "    "
   ]
  },
  {
   "cell_type": "code",
   "execution_count": 23,
   "metadata": {
    "code_folding": [
     0.0
    ]
   },
   "outputs": [],
   "source": [
    "def map_employer_type(col):\n",
    "    col = col.replace(['1'], 'private', regex=True)\n",
    "    col = col.replace(['2'], 'state_owned', regex=True)\n",
    "    col = col.replace(['3'], 'government', regex=True)\n",
    "    col = col.replace(['4'], 'ingo', regex=True)\n",
    "    col = col.replace(['5'], 'logal_ngo', regex=True)\n",
    "    col = col.replace(['6'], 'domestic', regex=True)\n",
    "    col = col.replace(['7'], 'gov_private_firm', regex=True)\n",
    "    col = col.replace(['8'], 'domestic_foreign_firm', regex=True)\n",
    "    return col\n",
    "    "
   ]
  },
  {
   "cell_type": "code",
   "execution_count": 24,
   "metadata": {
    "code_folding": [
     0.0
    ]
   },
   "outputs": [],
   "source": [
    "def map_job_source(col):\n",
    "    col = col.replace(['3'], 'friends_family', regex=True)\n",
    "    col = col.replace(['4'], 'visit', regex=True)\n",
    "    col = col.replace(['6'], 'ngo', regex=True)\n",
    "    return col\n",
    "    "
   ]
  },
  {
   "cell_type": "code",
   "execution_count": 25,
   "metadata": {
    "code_folding": [
     0.0
    ]
   },
   "outputs": [],
   "source": [
    "def map_hiring_process(col):\n",
    "    col = col.replace(['3'], 'interview_only', regex=True)\n",
    "    col = col.replace(['7'], 'referral', regex=True)\n",
    "    col = col.replace(['8'], 'job_broker', regex=True)\n",
    "    col = col.replace(['9'], 'on_site', regex=True)\n",
    "    return col\n",
    "    "
   ]
  },
  {
   "cell_type": "code",
   "execution_count": 26,
   "metadata": {
    "code_folding": [
     0.0
    ]
   },
   "outputs": [],
   "source": [
    "def map_job_sector(col):\n",
    "    col = col.replace(['10'], 'education')\n",
    "    col = col.replace(['11'], 'transport')\n",
    "    col = col.replace(['12'], 'agriculture')\n",
    "    col = col.replace(['13'], 'leisure')\n",
    "    col = col.replace(['14'], 'retail')\n",
    "    col = col.replace(['15'], 'food')\n",
    "    col = col.replace(['16'], 'government')\n",
    "    col = col.replace(['17'], 'media')\n",
    "    col = col.replace(['18'], 'real_estate')\n",
    "    col = col.replace(['19'], 'it')\n",
    "    col = col.replace(['20'], 'oil_gas')\n",
    "    col = col.replace(['21'], 'automotive')\n",
    "    col = col.replace(['1'], 'financial')\n",
    "    col = col.replace(['2'], 'manufacturing')\n",
    "    col = col.replace(['3'], 'mining')\n",
    "    col = col.replace(['4'], 'construction')\n",
    "    col = col.replace(['5'], 'power')\n",
    "    col = col.replace(['6'], 'telecom')\n",
    "    col = col.replace(['7'], 'healthcare')\n",
    "    col = col.replace(['8'], 'consumer_goods')\n",
    "    col = col.replace(['9'], 'services')\n",
    "    return col"
   ]
  },
  {
   "cell_type": "code",
   "execution_count": 27,
   "metadata": {
    "code_folding": [
     0.0
    ]
   },
   "outputs": [],
   "source": [
    "def map_transportation(col):\n",
    "    col = col.replace(['1'], 'bus')\n",
    "    col = col.replace(['2'], 'taxi')\n",
    "    col = col.replace(['7'], 'walking')\n",
    "    return col"
   ]
  },
  {
   "cell_type": "code",
   "execution_count": 28,
   "metadata": {
    "code_folding": []
   },
   "outputs": [],
   "source": [
    "def map_frequency(col):\n",
    "    col = col.replace(['1'], 'always')\n",
    "    col = col.replace(['2'], 'often')\n",
    "    col = col.replace(['3'], 'sometimes')\n",
    "    col = col.replace(['4'], 'rarely')\n",
    "    col = col.replace(['5'], 'never')\n",
    "    return col"
   ]
  },
  {
   "cell_type": "code",
   "execution_count": 29,
   "metadata": {},
   "outputs": [],
   "source": [
    "def map_search_methods(col):\n",
    "    col = col.replace(['1'], 'internet', regex=True)\n",
    "    col = col.replace(['2'], 'media', regex=True)\n",
    "    col = col.replace(['3'], 'community', regex=True)\n",
    "    col = col.replace(['4'], 'work_visit', regex=True)\n",
    "    col = col.replace(['5'], 'employment_service', regex=True)\n",
    "    col = col.replace(['6'], 'ngo', regex=True)\n",
    "    col = col.replace(['7'], 'social_media', regex=True)\n",
    "    return col"
   ]
  },
  {
   "cell_type": "code",
   "execution_count": 30,
   "metadata": {},
   "outputs": [],
   "source": [
    "def map_allow(col):\n",
    "    col = col.replace(['0'], 'will_refuse', regex=True)\n",
    "    col = col.replace(['1'], 'no_issue', regex=True)\n",
    "    return col"
   ]
  },
  {
   "cell_type": "code",
   "execution_count": 31,
   "metadata": {},
   "outputs": [],
   "source": [
    "def map_job_qualities(col):\n",
    "    col = col.replace(['1'], 'safe_comfortable', regex=True)\n",
    "    col = col.replace(['2'], 'salary_benefits', regex=True)\n",
    "    col = col.replace(['3'], 'skills_opportunities', regex=True)\n",
    "    col = col.replace(['4'], 'flexible_hours', regex=True)\n",
    "    col = col.replace(['5'], 'security', regex=True)\n",
    "    col = col.replace(['6'], 'close_to_home', regex=True)\n",
    "    col = col.replace(['7'], 'in_line_with_qualifications', regex=True)\n",
    "    return col"
   ]
  },
  {
   "cell_type": "code",
   "execution_count": 36,
   "metadata": {},
   "outputs": [],
   "source": [
    "def map_health_conditions(col):\n",
    "    col = col.replace(['0'], 'none', regex=True)\n",
    "    col = col.replace(['1'], 'diabetes', regex=True)\n",
    "    col = col.replace(['2'], 'heart_disease', regex=True)\n",
    "    col = col.replace(['3'], 'hypertension', regex=True)\n",
    "    col = col.replace(['4'], 'cancer', regex=True)\n",
    "    col = col.replace(['5'], 'respiratory', regex=True)\n",
    "    return col"
   ]
  },
  {
   "cell_type": "code",
   "execution_count": 37,
   "metadata": {},
   "outputs": [
    {
     "data": {
      "text/plain": [
       "0                              ---\n",
       "1                              ---\n",
       "2                  salary_benefits\n",
       "3                 safe_comfortable\n",
       "4                 safe_comfortable\n",
       "5                         security\n",
       "6                 safe_comfortable\n",
       "7                 safe_comfortable\n",
       "8                 safe_comfortable\n",
       "9                  salary_benefits\n",
       "10                   close_to_home\n",
       "11                   close_to_home\n",
       "12                 salary_benefits\n",
       "13                             ---\n",
       "14                             ---\n",
       "15                        security\n",
       "16                safe_comfortable\n",
       "17                 salary_benefits\n",
       "18                        security\n",
       "19                 salary_benefits\n",
       "20                safe_comfortable\n",
       "21                safe_comfortable\n",
       "22                 salary_benefits\n",
       "23                safe_comfortable\n",
       "24                        security\n",
       "25                safe_comfortable\n",
       "26                safe_comfortable\n",
       "27                   close_to_home\n",
       "28                 salary_benefits\n",
       "29                        security\n",
       "                  ...             \n",
       "271               safe_comfortable\n",
       "272                       security\n",
       "273               safe_comfortable\n",
       "274               safe_comfortable\n",
       "275               safe_comfortable\n",
       "276               safe_comfortable\n",
       "277               safe_comfortable\n",
       "278                salary_benefits\n",
       "279                salary_benefits\n",
       "280                  close_to_home\n",
       "281               safe_comfortable\n",
       "282                salary_benefits\n",
       "283               safe_comfortable\n",
       "284               safe_comfortable\n",
       "285               safe_comfortable\n",
       "286                       security\n",
       "287                salary_benefits\n",
       "288               safe_comfortable\n",
       "289                 flexible_hours\n",
       "290                       security\n",
       "291               safe_comfortable\n",
       "292               safe_comfortable\n",
       "293               safe_comfortable\n",
       "294                salary_benefits\n",
       "295               safe_comfortable\n",
       "296               safe_comfortable\n",
       "297               safe_comfortable\n",
       "298               safe_comfortable\n",
       "299    in_line_with_qualifications\n",
       "300               safe_comfortable\n",
       "Name: job_qualities, Length: 301, dtype: object"
      ]
     },
     "execution_count": 37,
     "metadata": {},
     "output_type": "execute_result"
    }
   ],
   "source": [
    "unclean['job_preference1'] = update_profession(unclean['job_preference1'])\n",
    "unclean['job_preference2'] = update_profession(unclean['job_preference2'])\n",
    "unclean['city'] = map_cities(unclean['city'])\n",
    "unclean['method_id'] = map_method_id(unclean['method_id'])\n",
    "unclean['secondary_contact_relation'] = map_relation(unclean['secondary_contact_relation'])\n",
    "unclean['visit_time'] = map_time(unclean['visit_time'])\n",
    "unclean['head_household'] = map_relation(unclean['head_household'])\n",
    "unclean['origin_country'] = map_countries(unclean['origin_country'])\n",
    "unclean['origin_city_size'] = map_size(unclean['origin_city_size'])\n",
    "unclean['in_kind_support'] = map_support(unclean['in_kind_support'])\n",
    "unclean['work_permit_status'] = map_work_permit_status(unclean['work_permit_status'])\n",
    "unclean['permit_barriers'] = map_permit_barriers(unclean['permit_barriers'])\n",
    "unclean['degree_country'] = map_countries(unclean['degree_country'])\n",
    "unclean['job_description'] = update_profession(unclean['job_description'])\n",
    "unclean['job_terms'] = map_employment_terms(unclean['job_terms'])\n",
    "unclean['employer_type'] = map_employer_type(unclean['employer_type'])\n",
    "unclean['job_knowledge'] = map_job_source(unclean['job_knowledge'])\n",
    "unclean['hiring_process'] = map_hiring_process(unclean['hiring_process'])\n",
    "unclean['current_job_sector'] = map_job_sector(unclean['current_job_sector'])\n",
    "unclean['mode_of_transportation'] = map_transportation(unclean['mode_of_transportation'])\n",
    "unclean['bad_noise'] = map_frequency(unclean['bad_noise'])\n",
    "unclean['bad_temp'] = map_frequency(unclean['bad_temp'])\n",
    "unclean['poor_breathing'] = map_frequency(unclean['poor_breathing'])\n",
    "unclean['stressful_situations'] = map_frequency(unclean['stressful_situations'])\n",
    "unclean['physical_activity'] = map_frequency(unclean['physical_activity'])\n",
    "unclean['poor_boss'] = map_frequency(unclean['poor_boss'])\n",
    "\n",
    "unclean['job_location'] = unclean['job_location'].replace(['---'], '')\n",
    "unclean['job_location'] = unclean['job_location'].replace(['other'], '')\n",
    "unclean['job_location_other'] = unclean['job_location_other'].replace(['---'], '')\n",
    "unclean['job_location_calc'] = np_concat(unclean['job_location'], unclean['job_location_other'])\n",
    "unclean['job_location_calc'] = map_countries(unclean['job_location_calc'])\n",
    "\n",
    "unclean['highest_paying_description'] = update_profession(unclean['highest_paying_description'])\n",
    "unclean['highest_paying_employment_terms'] = map_employment_terms(unclean['highest_paying_employment_terms'])\n",
    "unclean['highest_paying_employer'] = map_employer_type(unclean['highest_paying_employer'])\n",
    "unclean['highest_paying_sector'] = map_job_sector(unclean['highest_paying_sector'])\n",
    "unclean['highest_paying_location'] = unclean['highest_paying_location'].replace(['---'], '')\n",
    "unclean['highest_paying_location'] = unclean['highest_paying_location'].replace(['other'], '')\n",
    "unclean['highest_paying_location_other'] = unclean['highest_paying_location_other'].replace(['---'], '')\n",
    "unclean['highest_paying_location_calc'] = np_concat(unclean['highest_paying_location'], unclean['highest_paying_location_other'])\n",
    "unclean['highest_paying_location_calc'] = map_workspace(unclean['highest_paying_location_calc'])\n",
    "\n",
    "unclean['self_employment_sector'] = map_job_sector(unclean['self_employment_sector'])\n",
    "unclean['search_methods_used'] = map_search_methods(unclean['search_methods_used'])\n",
    "\n",
    "unclean['manager_opposite_gender'] = map_allow(unclean['manager_opposite_gender'])\n",
    "unclean['coworkers_opposite_gender'] = map_allow(unclean['coworkers_opposite_gender'])\n",
    "\n",
    "unclean['job_qualities'] = map_job_qualities(unclean['job_qualities'])\n",
    "unclean['health_conditions'] = map_health_conditions(unclean['health_conditions'])\n",
    "\n",
    "unclean['job_qualities']\n"
   ]
  },
  {
   "cell_type": "code",
   "execution_count": 39,
   "metadata": {},
   "outputs": [],
   "source": [
    "unclean.to_csv('../match-data/case-import/clean.csv')"
   ]
  },
  {
   "cell_type": "code",
   "execution_count": null,
   "metadata": {},
   "outputs": [],
   "source": []
  }
 ],
 "metadata": {
  "kernelspec": {
   "display_name": "Python 3",
   "language": "python",
   "name": "python3"
  },
  "language_info": {
   "codemirror_mode": {
    "name": "ipython",
    "version": 3
   },
   "file_extension": ".py",
   "mimetype": "text/x-python",
   "name": "python",
   "nbconvert_exporter": "python",
   "pygments_lexer": "ipython3",
   "version": "3.6.5"
  }
 },
 "nbformat": 4,
 "nbformat_minor": 2
}
