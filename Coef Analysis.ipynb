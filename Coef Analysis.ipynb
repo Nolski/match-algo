{
 "cells": [
  {
   "cell_type": "code",
   "execution_count": 1,
   "metadata": {},
   "outputs": [],
   "source": [
    "import numpy as np\n",
    "import pandas as pd\n",
    "import statsmodels.api as sm\n",
    "import matplotlib.pyplot as plt\n",
    "\n",
    "from numpy.random import randn\n",
    "from numpy.matlib import repmat\n",
    "\n",
    "from scipy.stats import norm\n",
    "from scipy.optimize import fmin\n",
    "from scipy.special import erf\n",
    "\n",
    "from patsy import dmatrices\n",
    "\n",
    "from sklearn import metrics\n",
    "from sklearn.linear_model import LogisticRegression, LinearRegression\n",
    "from sklearn.model_selection import train_test_split, cross_val_score\n",
    "from sklearn.preprocessing import LabelEncoder, OneHotEncoder, MultiLabelBinarizer"
   ]
  },
  {
   "cell_type": "code",
   "execution_count": 2,
   "metadata": {},
   "outputs": [],
   "source": [
    "a = pd.DataFrame([[np.nan, 2, 3], [4, np.nan, 6]])\n",
    "\n",
    "a[0] = a[0].fillna(0)"
   ]
  },
  {
   "cell_type": "code",
   "execution_count": 3,
   "metadata": {},
   "outputs": [],
   "source": [
    "def array_vector(col):\n",
    "    return np.array(str(col))\n",
    "\n",
    "arrayerize = np.vectorize(array_vector)\n",
    "\n",
    "def one_hot_encode(df, column, labels_column=None, whitelist=[]):\n",
    "    # This is gross but since strings are iterable, we have to wrap them in a list\n",
    "    # in order for the binarizer to parse the labels as strings and not chars\n",
    "    labels = arrayerize(pd.DataFrame(df[column]))\n",
    "    terms = arrayerize(pd.DataFrame(list(set(df[column]))))\n",
    "\n",
    "    mlb = MultiLabelBinarizer()\n",
    "    mlb.fit(terms)\n",
    "    mlb.transform(labels)\n",
    "    columns = [ f'{column}-{classname}' for classname in  mlb.classes_]\n",
    "\n",
    "    encoded = pd.DataFrame(mlb.transform(labels), columns=columns, index=df[column].index)\n",
    "\n",
    "    df.drop(column, axis=1, inplace=True)\n",
    "    return df.join(encoded)"
   ]
  },
  {
   "cell_type": "code",
   "execution_count": 4,
   "metadata": {},
   "outputs": [],
   "source": [
    "firms = pd.read_csv('../match-data/match-v1/firms.csv')\n",
    "jobs = pd.read_csv('../match-data/match-v1/job-openings.csv')\n",
    "jobs_parent = pd.read_csv('../match-data/match-v1/job-openings-parent.csv')\n",
    "job_seekers = pd.read_csv('../match-data/match-v1/job-seekers.csv')\n",
    "matches = pd.read_csv('../match-data/match-v1/matches.csv')\n",
    "matches_parent = pd.read_csv('../match-data/match-v1/matches-parent.csv')\n",
    "\n",
    "\n",
    "matches_merged = pd.merge(matches, matches_parent, on='number')\n",
    "jobs_merged = pd.merge(jobs, jobs_parent, on='number')"
   ]
  },
  {
   "cell_type": "code",
   "execution_count": 5,
   "metadata": {},
   "outputs": [],
   "source": [
    "categorical_columns = [\"gender\", \"highest_edu_level\", \"nationality\", \"gendermix_not_allowed\", \"benefit1\", \"benefit2\", \"city\", \"english_proficiency\", \"impairments\", \"major\", \"opposite_gender_coworkers\", \"opposite_gender_manager\", \"first_job_field_preference\", \"second_job_field_preference\", \"bus_covered\", \"childcare_subsidy_offered\", \"dorm_covered\", \"driving_ability_required\", \"education_required\", \"english_proficiency_required\", \"female_requied\", \"free_meals_at_wok\", \"health_insurance_offered\", \"hearing_disability_accepted\", \"housing_subsidy_offered\", \"it_proficiency_required\", \"job_category\", \"job_description\", \"job_production\", \"jordanian_experience_required\", \"literacy_required\", \"male_required\", \"meal_subsidy_offered\", \"night_shifts_required\", \"noncognitive_skill_preference1\", \"noncognitive_skill_preference2\", \"numeracy_requied\", \"physical_disability_accepted\", \"physical_work_abilities_required\", \"problem_solving_required\", \"school_subsidy_offered\", \"specialization_required\", \"speech_disability_accepted\", \"syrian_considered\", \"transport_subsidy_offered\", \"visual_disability_accepted\", \"work_permit_offered\",]\n",
    "all_columns = [\"age\", \"gender\", \"highest_edu_level\", \"will_work_night_shift\", \"nationality\", \"gendermix_not_allowed\", \"will_work_qiz\", \"arab_coworkers\", \"benefit1\", \"benefit2\", \"city\", \"daily_hours_willing_to_work\", \"days_willing_train_unpaid\", \"distance_willing_to_travel\", \"english_proficiency\", \"experience_clerical_work\", \"experience_factory\", \"experience_management_work\", \"experience_manual_labor\", \"experience_professional_work\", \"follow_up_agreement\", \"has_job\", \"impairments\", \"major\", \"nonarab_coworkers\", \"opposite_gender_coworkers\", \"opposite_gender_manager\", \"weekly_days_willing_to_work\", \"will_live_in_dorm\", \"will_train_unpaid\", \"years_education\", \"years_exp\", \"first_job_field_preference\", \"rwage1\", \"second_job_field_preference\", \"hh_income\", \"hired_yes_no\", \"interest_applying\", \"num_children\", \"personal_income\", \"bus_covered\", \"childcare_subsidy_offered\", \"dorm_covered\", \"driving_ability_required\", \"education_required\", \"english_proficiency_required\", \"female_requied\", \"free_meals_at_wok\", \"health_insurance_offered\", \"hearing_disability_accepted\", \"housing_subsidy_offered\", \"it_proficiency_required\", \"job_category\", \"job_description\", \"job_production\", \"jordanian_experience_required\", \"literacy_required\", \"male_required\", \"meal_subsidy_offered\", \"night_shifts_required\", \"noncognitive_skill_preference1\", \"noncognitive_skill_preference2\", \"num_vacancies\", \"numeracy_requied\", \"physical_disability_accepted\", \"physical_work_abilities_required\", \"problem_solving_required\", \"school_subsidy_offered\", \"specialization_required\", \"speech_disability_accepted\", \"syrian_considered\", \"transport_subsidy_offered\", \"visual_disability_accepted\", \"wage_offered\", \"work_permit_offered\", \"years_experience_required\",]\n",
    "scalar_columns = [\"age\", \"daily_hours_willing_to_work\", \"days_willing_train_unpaid\", \"distance_willing_to_travel\", \"years_education\", \"years_exp\", \"rwage1\", \"hh_income\", \"num_children\", \"personal_income\", \"num_vacancies\", \"wage_offered\"]"
   ]
  },
  {
   "cell_type": "code",
   "execution_count": 6,
   "metadata": {},
   "outputs": [],
   "source": [
    "job_seekers['parent_case_id'] = job_seekers['caseid']"
   ]
  },
  {
   "cell_type": "code",
   "execution_count": 7,
   "metadata": {},
   "outputs": [],
   "source": [
    "merged = pd.merge(job_seekers, matches_merged, on='parent_case_id')\n",
    "merged = pd.merge(merged, jobs_merged, on='job_id')\n",
    "\n",
    "merged.to_csv('../match-data/match-v1/merged.csv')"
   ]
  },
  {
   "cell_type": "code",
   "execution_count": 8,
   "metadata": {},
   "outputs": [],
   "source": [
    "formatted = pd.DataFrame()\n",
    "for col in all_columns:\n",
    "    formatted[col] = merged[col]\n",
    "\n",
    "\n",
    "for col in categorical_columns:\n",
    "    formatted = one_hot_encode(formatted, col)\n",
    "\n",
    "for col in formatted.columns:\n",
    "    formatted[col] = formatted[col].replace(['---'], 0)\n",
    "    \n",
    "formatted.to_csv('../match-data/match-v1/formatted.csv')"
   ]
  },
  {
   "cell_type": "code",
   "execution_count": 9,
   "metadata": {},
   "outputs": [],
   "source": [
    "y = formatted['hired_yes_no']\n",
    "y = y.fillna(0)\n",
    "formatted = formatted.drop(['hired_yes_no'], axis=1)\n"
   ]
  },
  {
   "cell_type": "code",
   "execution_count": 10,
   "metadata": {},
   "outputs": [],
   "source": [
    "for col in formatted.columns:\n",
    "    if col in scalar_columns:\n",
    "        formatted[col] = formatted[col].astype(float)\n",
    "        mean = formatted[col].mean()\n",
    "        formatted[col] = formatted[col].replace(['---'], mean)\n",
    "        formatted[col] = formatted[col].fillna(mean)\n",
    "    else:\n",
    "        formatted[col] = formatted[col].fillna(0)\n",
    "        formatted[col] = formatted[col].astype(int)\n",
    "        formatted[col] = formatted[col].replace(['---'], 0)\n",
    "\n",
    "formatted.to_csv('../match-data/match-v1/X.csv')"
   ]
  },
  {
   "cell_type": "code",
   "execution_count": 11,
   "metadata": {},
   "outputs": [],
   "source": [
    "y=y.astype('int')\n",
    "y.to_csv('../match-data/match-v1/y.csv')"
   ]
  },
  {
   "cell_type": "code",
   "execution_count": 12,
   "metadata": {},
   "outputs": [
    {
     "data": {
      "text/plain": [
       "LogisticRegression(C=1.0, class_weight=None, dual=False, fit_intercept=True,\n",
       "          intercept_scaling=1, max_iter=1000, multi_class='ovr', n_jobs=1,\n",
       "          penalty='l2', random_state=None, solver='liblinear', tol=0.0001,\n",
       "          verbose=0, warm_start=False)"
      ]
     },
     "execution_count": 12,
     "metadata": {},
     "output_type": "execute_result"
    }
   ],
   "source": [
    "model = LogisticRegression(max_iter=1000)\n",
    "model.fit(formatted, y)"
   ]
  },
  {
   "cell_type": "code",
   "execution_count": 13,
   "metadata": {},
   "outputs": [],
   "source": [
    "coef_dict = {}\n",
    "for coef, feat in zip(model.coef_[0], formatted.columns):\n",
    "    coef_dict[feat] = coef"
   ]
  },
  {
   "cell_type": "code",
   "execution_count": 14,
   "metadata": {},
   "outputs": [
    {
     "name": "stderr",
     "output_type": "stream",
     "text": [
      "/home/nolski/code/tashbeek/venv/lib/python3.6/site-packages/ipykernel_launcher.py:7: DeprecationWarning: \n",
      ".ix is deprecated. Please use\n",
      ".loc for label based indexing or\n",
      ".iloc for positional indexing\n",
      "\n",
      "See the documentation here:\n",
      "http://pandas.pydata.org/pandas-docs/stable/indexing.html#ix-indexer-is-deprecated\n",
      "  import sys\n"
     ]
    }
   ],
   "source": [
    "c = {}\n",
    "for k, v in coef_dict.items():\n",
    "    c[k] = [v]\n",
    "    \n",
    "\n",
    "coef_frame = pd.DataFrame.from_dict(c)\n",
    "sorted_frame = coef_frame.columns[coef_frame.ix[coef_frame.last_valid_index()].argsort()]\n",
    "coef_frame.to_csv('../match-data/match-v1/coefs.csv')"
   ]
  },
  {
   "cell_type": "code",
   "execution_count": 15,
   "metadata": {},
   "outputs": [],
   "source": [
    "sorted_frame\n",
    "final_sorted = pd.DataFrame()\n",
    "for key in sorted_frame:\n",
    "    final_sorted[key] = coef_frame[key]\n",
    "\n",
    "final_sorted.to_csv('../match-data/match-v1/coefs_sorted.csv')"
   ]
  },
  {
   "cell_type": "code",
   "execution_count": 16,
   "metadata": {},
   "outputs": [],
   "source": [
    "from sklearn.feature_selection import chi2\n",
    "scores, pvalues = chi2(formatted, y)"
   ]
  },
  {
   "cell_type": "code",
   "execution_count": 17,
   "metadata": {},
   "outputs": [
    {
     "name": "stderr",
     "output_type": "stream",
     "text": [
      "/home/nolski/code/tashbeek/venv/lib/python3.6/site-packages/ipykernel_launcher.py:11: DeprecationWarning: \n",
      ".ix is deprecated. Please use\n",
      ".loc for label based indexing or\n",
      ".iloc for positional indexing\n",
      "\n",
      "See the documentation here:\n",
      "http://pandas.pydata.org/pandas-docs/stable/indexing.html#ix-indexer-is-deprecated\n",
      "  # This is added back by InteractiveShellApp.init_path()\n"
     ]
    }
   ],
   "source": [
    "p_dict = {}\n",
    "for pvalue, feat in zip(pvalues, formatted.columns):\n",
    "    p_dict[feat] = pvalue\n",
    "    \n",
    "c = {}\n",
    "for k, v in p_dict.items():\n",
    "    c[k] = [v]\n",
    "    \n",
    "\n",
    "coef_frame = pd.DataFrame.from_dict(c)\n",
    "sorted_frame = coef_frame.columns[coef_frame.ix[coef_frame.last_valid_index()].argsort()]\n",
    "coef_frame.to_csv('../match-data/match-v1/pvalues.csv')"
   ]
  },
  {
   "cell_type": "code",
   "execution_count": 18,
   "metadata": {},
   "outputs": [],
   "source": [
    "sorted_frame\n",
    "final_sorted = pd.DataFrame()\n",
    "for key in sorted_frame:\n",
    "    final_sorted[key] = coef_frame[key]\n",
    "\n",
    "final_sorted.to_csv('../match-data/match-v1/pvalues_sorted.csv')"
   ]
  },
  {
   "cell_type": "code",
   "execution_count": null,
   "metadata": {},
   "outputs": [],
   "source": []
  }
 ],
 "metadata": {
  "kernelspec": {
   "display_name": "Python 3",
   "language": "python",
   "name": "python3"
  },
  "language_info": {
   "codemirror_mode": {
    "name": "ipython",
    "version": 3
   },
   "file_extension": ".py",
   "mimetype": "text/x-python",
   "name": "python",
   "nbconvert_exporter": "python",
   "pygments_lexer": "ipython3",
   "version": "3.6.6"
  }
 },
 "nbformat": 4,
 "nbformat_minor": 2
}
