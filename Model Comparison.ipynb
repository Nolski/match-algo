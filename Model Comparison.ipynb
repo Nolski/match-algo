{
 "cells": [
  {
   "cell_type": "code",
   "execution_count": 33,
   "metadata": {},
   "outputs": [],
   "source": [
    "def warn(*args, **kwargs):\n",
    "    pass\n",
    "import warnings\n",
    "warnings.warn = warn\n",
    "\n",
    "import numpy as np\n",
    "import pandas as pd\n",
    "import statsmodels.api as sm\n",
    "import matplotlib.pyplot as plt\n",
    "\n",
    "from numpy.random import randn\n",
    "from numpy.matlib import repmat\n",
    "\n",
    "from scipy.stats import norm\n",
    "from scipy.optimize import fmin\n",
    "from scipy.special import erf\n",
    "\n",
    "from patsy import dmatrices\n",
    "\n",
    "from sklearn import metrics\n",
    "from sklearn.linear_model import LogisticRegressionCV, LinearRegression, LassoCV\n",
    "from sklearn.model_selection import train_test_split, cross_val_score\n",
    "from sklearn.preprocessing import LabelEncoder, OneHotEncoder, MultiLabelBinarizer\n",
    "from sklearn.feature_selection import chi2\n",
    "from sklearn.ensemble import GradientBoostingClassifier"
   ]
  },
  {
   "cell_type": "code",
   "execution_count": 2,
   "metadata": {},
   "outputs": [],
   "source": [
    "a = pd.DataFrame([[np.nan, 2, 3], [4, np.nan, 6]])\n",
    "\n",
    "a[0] = a[0].fillna(0)"
   ]
  },
  {
   "cell_type": "code",
   "execution_count": 3,
   "metadata": {},
   "outputs": [],
   "source": [
    "def array_vector(col):\n",
    "    return np.array(str(col))\n",
    "\n",
    "arrayerize = np.vectorize(array_vector)\n",
    "\n",
    "def one_hot_encode(df, column, labels_column=None, whitelist=[]):\n",
    "    # This is gross but since strings are iterable, we have to wrap them in a list\n",
    "    # in order for the binarizer to parse the labels as strings and not chars\n",
    "    labels = arrayerize(pd.DataFrame(df[column]))\n",
    "    terms = arrayerize(pd.DataFrame(list(set(df[column]))))\n",
    "\n",
    "    mlb = MultiLabelBinarizer()\n",
    "    mlb.fit(terms)\n",
    "    mlb.transform(labels)\n",
    "    columns = [ f'{column}-{classname}' for classname in  mlb.classes_]\n",
    "\n",
    "    encoded = pd.DataFrame(mlb.transform(labels), columns=columns, index=df[column].index)\n",
    "\n",
    "    df.drop(column, axis=1, inplace=True)\n",
    "    return df.join(encoded)"
   ]
  },
  {
   "cell_type": "code",
   "execution_count": 4,
   "metadata": {},
   "outputs": [],
   "source": [
    "firms = pd.read_csv('../match-data/match-v1/firms.csv')\n",
    "jobs = pd.read_csv('../match-data/match-v1/job-openings.csv')\n",
    "jobs_parent = pd.read_csv('../match-data/match-v1/job-openings-parent.csv')\n",
    "job_seekers = pd.read_csv('../match-data/match-v1/job-seekers.csv')\n",
    "matches = pd.read_csv('../match-data/match-v1/matches.csv')\n",
    "matches_parent = pd.read_csv('../match-data/match-v1/matches-parent.csv')\n",
    "\n",
    "\n",
    "matches_merged = pd.merge(matches, matches_parent, on='number')\n",
    "jobs_merged = pd.merge(jobs, jobs_parent, on='number')"
   ]
  },
  {
   "cell_type": "code",
   "execution_count": 5,
   "metadata": {},
   "outputs": [],
   "source": [
    "categorical_columns = [\"gender\", \"highest_edu_level\", \"nationality\", \"gendermix_not_allowed\", \"benefit1\", \"benefit2\", \"city\", \"english_proficiency\", \"impairments\", \"major\", \"opposite_gender_coworkers\", \"opposite_gender_manager\", \"first_job_field_preference\", \"second_job_field_preference\", \"bus_covered\", \"childcare_subsidy_offered\", \"dorm_covered\", \"driving_ability_required\", \"education_required\", \"english_proficiency_required\", \"female_requied\", \"free_meals_at_wok\", \"health_insurance_offered\", \"hearing_disability_accepted\", \"housing_subsidy_offered\", \"it_proficiency_required\", \"job_category\", \"job_description\", \"job_production\", \"jordanian_experience_required\", \"literacy_required\", \"male_required\", \"meal_subsidy_offered\", \"night_shifts_required\", \"noncognitive_skill_preference1\", \"noncognitive_skill_preference2\", \"numeracy_requied\", \"physical_disability_accepted\", \"physical_work_abilities_required\", \"problem_solving_required\", \"school_subsidy_offered\", \"specialization_required\", \"speech_disability_accepted\", \"syrian_considered\", \"transport_subsidy_offered\", \"visual_disability_accepted\", \"work_permit_offered\",]\n",
    "all_columns = [\"age\", \"gender\", \"highest_edu_level\", \"will_work_night_shift\", \"nationality\", \"gendermix_not_allowed\", \"will_work_qiz\", \"arab_coworkers\", \"benefit1\", \"benefit2\", \"city\", \"daily_hours_willing_to_work\", \"days_willing_train_unpaid\", \"distance_willing_to_travel\", \"english_proficiency\", \"experience_clerical_work\", \"experience_factory\", \"experience_management_work\", \"experience_manual_labor\", \"experience_professional_work\", \"follow_up_agreement\", \"has_job\", \"impairments\", \"major\", \"nonarab_coworkers\", \"opposite_gender_coworkers\", \"opposite_gender_manager\", \"weekly_days_willing_to_work\", \"will_live_in_dorm\", \"will_train_unpaid\", \"years_education\", \"years_exp\", \"first_job_field_preference\", \"rwage1\", \"second_job_field_preference\", \"hh_income\", \"hired_yes_no\", \"quit\", \"fired\", \"interest_applying\", \"num_children\", \"personal_income\", \"bus_covered\", \"childcare_subsidy_offered\", \"dorm_covered\", \"driving_ability_required\", \"education_required\", \"english_proficiency_required\", \"female_requied\", \"free_meals_at_wok\", \"health_insurance_offered\", \"hearing_disability_accepted\", \"housing_subsidy_offered\", \"it_proficiency_required\", \"job_category\", \"job_description\", \"job_production\", \"jordanian_experience_required\", \"literacy_required\", \"male_required\", \"meal_subsidy_offered\", \"night_shifts_required\", \"noncognitive_skill_preference1\", \"noncognitive_skill_preference2\", \"num_vacancies\", \"numeracy_requied\", \"physical_disability_accepted\", \"physical_work_abilities_required\", \"problem_solving_required\", \"school_subsidy_offered\", \"specialization_required\", \"speech_disability_accepted\", \"syrian_considered\", \"transport_subsidy_offered\", \"visual_disability_accepted\", \"wage_offered\", \"work_permit_offered\", \"years_experience_required\",]\n",
    "scalar_columns = [\"age\", \"daily_hours_willing_to_work\", \"days_willing_train_unpaid\", \"distance_willing_to_travel\", \"years_education\", \"years_exp\", \"rwage1\", \"hh_income\", \"num_children\", \"personal_income\", \"num_vacancies\", \"wage_offered\"]"
   ]
  },
  {
   "cell_type": "code",
   "execution_count": 6,
   "metadata": {},
   "outputs": [],
   "source": [
    "job_seekers['parent_case_id'] = job_seekers['caseid']"
   ]
  },
  {
   "cell_type": "code",
   "execution_count": 7,
   "metadata": {},
   "outputs": [],
   "source": [
    "merged = pd.merge(job_seekers, matches_merged, on='parent_case_id')\n",
    "merged = pd.merge(merged, jobs_merged, on='job_id')\n",
    "\n",
    "merged.to_csv('../match-data/match-v1/merged.csv')"
   ]
  },
  {
   "cell_type": "code",
   "execution_count": 8,
   "metadata": {},
   "outputs": [],
   "source": [
    "formatted = pd.DataFrame()\n",
    "for col in all_columns:\n",
    "    formatted[col] = merged[col]\n",
    "\n",
    "dvs = ['hired_yes_no', 'quit', 'fired']\n",
    "\n",
    "for col in all_columns:\n",
    "    if col not in scalar_columns and col not in dvs:\n",
    "        formatted = one_hot_encode(formatted, col)\n",
    "\n",
    "for col in formatted.columns:\n",
    "    # TODO: Change this\n",
    "    formatted[col] = formatted[col].replace(['---'], 0)\n",
    "    \n",
    "formatted.to_csv('../match-data/match-v1/formatted.csv')"
   ]
  },
  {
   "cell_type": "code",
   "execution_count": 9,
   "metadata": {},
   "outputs": [],
   "source": [
    "formatted['hired_yes_no'] = formatted['hired_yes_no'].fillna(0)\n",
    "formatted['hired_yes_no'] = formatted['hired_yes_no'].replace(['---'], 0)\n",
    "\n",
    "formatted['quit'] = formatted['quit'].fillna(0)\n",
    "formatted['quit'] = formatted['quit'].replace(['---'], 0)\n",
    "formatted['quit'] = formatted['quit'].replace(['no'], 0)\n",
    "formatted['quit'] = formatted['quit'].replace(['yes'], 1)\n",
    "\n",
    "formatted['fired'] = formatted['fired'].fillna(0)\n",
    "formatted['fired'] = formatted['fired'].replace(['---'], 0)\n",
    "formatted['fired'] = formatted['fired'].replace(['no'], 0)\n",
    "formatted['fired'] = formatted['fired'].replace(['yes'], 1)\n",
    "\n",
    "formatted['hired_yes_no'] = formatted['hired_yes_no'].astype(bool)\n",
    "formatted['quit'] = formatted['quit'].astype(bool)\n",
    "formatted['fired'] = formatted['fired'].astype(bool)\n",
    "\n",
    "y = pd.DataFrame()\n",
    "y['retained'] = formatted['hired_yes_no'] & ~(formatted['quit'] | formatted['fired'])\n",
    "#y['hired'] = formatted['hired_yes_no']"
   ]
  },
  {
   "cell_type": "code",
   "execution_count": 10,
   "metadata": {},
   "outputs": [],
   "source": [
    "formatted = formatted.drop(dvs, axis=1)"
   ]
  },
  {
   "cell_type": "code",
   "execution_count": 11,
   "metadata": {},
   "outputs": [],
   "source": [
    "to_drop = []\n",
    "for col in formatted.columns:\n",
    "    if col in scalar_columns:\n",
    "        formatted[col] = formatted[col].astype(float)\n",
    "        mean = formatted[col].mean()\n",
    "        formatted[col] = formatted[col].replace(['---'], mean)\n",
    "        formatted[col] = formatted[col].fillna(mean)\n",
    "    else:\n",
    "        formatted[col] = formatted[col].fillna(0)\n",
    "        formatted[col] = formatted[col].astype(int)\n",
    "        formatted[col] = formatted[col].replace(['---'], 0)\n",
    "    \n",
    "    if col.endswith('---'):\n",
    "        to_drop.append(col)\n",
    "\n",
    "formatted = formatted.drop(columns=to_drop)"
   ]
  },
  {
   "cell_type": "code",
   "execution_count": 12,
   "metadata": {},
   "outputs": [],
   "source": [
    "y=y.astype('int')\n",
    "y.to_csv('../match-data/match-v1/y.csv')"
   ]
  },
  {
   "cell_type": "code",
   "execution_count": 13,
   "metadata": {},
   "outputs": [],
   "source": [
    "formatted.to_csv('../match-data/match-v1/X.csv')\n",
    "X = formatted"
   ]
  },
  {
   "cell_type": "code",
   "execution_count": 14,
   "metadata": {},
   "outputs": [
    {
     "name": "stdout",
     "output_type": "stream",
     "text": [
      "(112, 245) (112, 1)\n"
     ]
    }
   ],
   "source": [
    "print(X.shape, y.shape)"
   ]
  },
  {
   "cell_type": "markdown",
   "metadata": {},
   "source": [
    "## Random Forest"
   ]
  },
  {
   "cell_type": "code",
   "execution_count": 15,
   "metadata": {},
   "outputs": [
    {
     "data": {
      "text/plain": [
       "0.7654054054054051"
      ]
     },
     "execution_count": 15,
     "metadata": {},
     "output_type": "execute_result"
    }
   ],
   "source": [
    "from sklearn.ensemble import RandomForestClassifier\n",
    "scores = []\n",
    "for i in range(100):\n",
    "    X_train, X_test, y_train, y_test = train_test_split(X, y, test_size=0.33)\n",
    "    regr = RandomForestClassifier(max_depth=10, random_state=0, n_estimators=100)\n",
    "    regr.fit(X_train, y_train)\n",
    "    s = regr.score(X_test, y_test)\n",
    "    scores.append(s)\n",
    "    \n",
    "sum(scores) / len(scores)"
   ]
  },
  {
   "cell_type": "markdown",
   "metadata": {},
   "source": [
    "# GBRT"
   ]
  },
  {
   "cell_type": "code",
   "execution_count": 36,
   "metadata": {},
   "outputs": [
    {
     "data": {
      "text/plain": [
       "0.7218918918918917"
      ]
     },
     "execution_count": 36,
     "metadata": {},
     "output_type": "execute_result"
    }
   ],
   "source": [
    "scores = []\n",
    "for i in range(100):\n",
    "    X_train, X_test, y_train, y_test = train_test_split(X, y, test_size=0.33)\n",
    "    model = GradientBoostingClassifier()\n",
    "    model.fit(X_train, y_train)\n",
    "    scores.append(model.score(X_test, y_test))\n",
    "\n",
    "sum(scores) / len(scores)"
   ]
  },
  {
   "cell_type": "markdown",
   "metadata": {},
   "source": [
    "## LASSO CV"
   ]
  },
  {
   "cell_type": "code",
   "execution_count": 29,
   "metadata": {},
   "outputs": [
    {
     "data": {
      "text/plain": [
       "0.18148973075401953"
      ]
     },
     "execution_count": 29,
     "metadata": {},
     "output_type": "execute_result"
    }
   ],
   "source": [
    "X_train, X_test, y_train, y_test = train_test_split(X, y, test_size=0.33)\n",
    "reg = LassoCV(cv=3, normalize=True).fit(X_train, y_train)\n",
    "reg.score(X_test, y_test)"
   ]
  },
  {
   "cell_type": "code",
   "execution_count": 17,
   "metadata": {},
   "outputs": [],
   "source": [
    "importances = {}\n",
    "for i, importance in enumerate(regr.feature_importances_):\n",
    "    importances[X.columns[i]] = importance\n",
    "    \n",
    "importances\n",
    "\n",
    "c = {}\n",
    "for k, v in importances.items():\n",
    "    c[k] = [v]\n",
    "    \n",
    "\n",
    "importance_frame = pd.DataFrame.from_dict(c)\n",
    "importance_frame.to_csv('../match-data/match-v1/random-forest-importance.csv')"
   ]
  },
  {
   "cell_type": "markdown",
   "metadata": {},
   "source": [
    "# K Best Feature Elimination"
   ]
  },
  {
   "cell_type": "code",
   "execution_count": 18,
   "metadata": {
    "code_folding": []
   },
   "outputs": [],
   "source": [
    "from sklearn.feature_selection import SelectKBest\n",
    "\n",
    "# Create and fit selector\n",
    "selector = SelectKBest(chi2, k=10)\n",
    "selector.fit(X, y)\n",
    "# Get idxs of columns to keep\n",
    "idxs_selected = selector.get_support(indices=True)\n",
    "cols = []\n",
    "for i, c in enumerate(X.columns):\n",
    "    if i in idxs_selected:\n",
    "        cols.append(c)"
   ]
  },
  {
   "cell_type": "markdown",
   "metadata": {},
   "source": [
    "### Accuracy using top 10 k-best features"
   ]
  },
  {
   "cell_type": "code",
   "execution_count": 38,
   "metadata": {},
   "outputs": [
    {
     "data": {
      "text/plain": [
       "0.7216216216216215"
      ]
     },
     "execution_count": 38,
     "metadata": {},
     "output_type": "execute_result"
    }
   ],
   "source": [
    "model = LogisticRegressionCV(max_iter=1000)\n",
    "\n",
    "scores = []\n",
    "for i in range(100):\n",
    "    X_train, X_test, y_train, y_test = train_test_split(X, y, test_size=0.33)\n",
    "    XX_train = pd.DataFrame()\n",
    "    XX_test = pd.DataFrame()\n",
    "    for c in cols:\n",
    "        XX_train[c] = X_train[c]\n",
    "        XX_test[c] = X_test[c]\n",
    "\n",
    "    model.fit(XX_train, y_train)\n",
    "    scores.append(model.score(XX_test, y_test))\n",
    "\n",
    "sum(scores) / len(scores)"
   ]
  },
  {
   "cell_type": "markdown",
   "metadata": {},
   "source": [
    "### Export Coefs & p-values to csv"
   ]
  },
  {
   "cell_type": "code",
   "execution_count": 20,
   "metadata": {},
   "outputs": [],
   "source": [
    "coef_dict = {}\n",
    "for coef, feat in zip(model.coef_[0], formatted.columns):\n",
    "    coef_dict[feat] = coef"
   ]
  },
  {
   "cell_type": "code",
   "execution_count": 21,
   "metadata": {},
   "outputs": [],
   "source": [
    "c = {}\n",
    "for k, v in coef_dict.items():\n",
    "    c[k] = [v]\n",
    "    \n",
    "\n",
    "coef_frame = pd.DataFrame.from_dict(c)\n",
    "sorted_frame = coef_frame.columns[coef_frame.ix[coef_frame.last_valid_index()].argsort()]\n",
    "coef_frame.to_csv('../match-data/match-v1/coefs.csv')\n",
    "\n",
    "odds_ratios = np.exp(coef_frame)"
   ]
  },
  {
   "cell_type": "code",
   "execution_count": 22,
   "metadata": {},
   "outputs": [],
   "source": [
    "scores, pvalues = chi2(formatted, y)"
   ]
  },
  {
   "cell_type": "code",
   "execution_count": 23,
   "metadata": {},
   "outputs": [],
   "source": [
    "p_dict = {}\n",
    "for pvalue, feat in zip(pvalues, formatted.columns):\n",
    "    p_dict[feat] = pvalue\n",
    "    \n",
    "c = {}\n",
    "for k, v in p_dict.items():\n",
    "    c[k] = [v]\n",
    "    \n",
    "\n",
    "pval_frame = pd.DataFrame.from_dict(c)\n",
    "sorted_frame = pval_frame.columns[pval_frame.ix[pval_frame.last_valid_index()].argsort()]\n",
    "pval_frame.to_csv('../match-data/match-v1/pvalues.csv')"
   ]
  },
  {
   "cell_type": "markdown",
   "metadata": {},
   "source": [
    "# Recursive Feature Elimination"
   ]
  },
  {
   "cell_type": "code",
   "execution_count": 24,
   "metadata": {},
   "outputs": [
    {
     "data": {
      "text/plain": [
       "RFE(estimator=LogisticRegressionCV(Cs=10, class_weight=None, cv=None, dual=False,\n",
       "           fit_intercept=True, intercept_scaling=1.0, max_iter=1000,\n",
       "           multi_class='multinomial', n_jobs=1, penalty='l2',\n",
       "           random_state=None, refit=True, scoring=None, solver='lbfgs',\n",
       "           tol=0.0001, verbose=0),\n",
       "  n_features_to_select=10, step=1, verbose=0)"
      ]
     },
     "execution_count": 24,
     "metadata": {},
     "output_type": "execute_result"
    }
   ],
   "source": [
    "model = LogisticRegressionCV(max_iter=1000, multi_class='multinomial', solver='lbfgs')\n",
    "from sklearn.feature_selection import RFE\n",
    "selector = RFE(model, 10, step=1)\n",
    "selector.fit(X, y)"
   ]
  },
  {
   "cell_type": "code",
   "execution_count": 25,
   "metadata": {},
   "outputs": [
    {
     "data": {
      "text/plain": [
       "['nationality-jordanian',\n",
       " 'benefit2-work_meals',\n",
       " 'experience_management_work-nan',\n",
       " 'second_job_field_preference-food',\n",
       " 'interest_applying-1',\n",
       " 'health_insurance_offered-no',\n",
       " 'noncognitive_skill_preference2-agreeableness',\n",
       " 'physical_work_abilities_required-no',\n",
       " 'physical_work_abilities_required-yes',\n",
       " 'work_permit_offered-no']"
      ]
     },
     "execution_count": 25,
     "metadata": {},
     "output_type": "execute_result"
    }
   ],
   "source": [
    "len(selector.support_)\n",
    "features = []\n",
    "for i, v in enumerate(selector.support_):\n",
    "    if v:\n",
    "        features.append(X.columns[i])\n",
    "\n",
    "features"
   ]
  },
  {
   "cell_type": "markdown",
   "metadata": {},
   "source": [
    "### Accuracy using top 10 RFE features"
   ]
  },
  {
   "cell_type": "code",
   "execution_count": 26,
   "metadata": {},
   "outputs": [
    {
     "data": {
      "text/plain": [
       "0.6428571428571429"
      ]
     },
     "execution_count": 26,
     "metadata": {},
     "output_type": "execute_result"
    }
   ],
   "source": [
    "model = LogisticRegressionCV(max_iter=1000, multi_class='multinomial', solver='lbfgs')\n",
    "# X_train, X_test, y_train, y_test = train_test_split(X, y, test_size=0.33, random_state=42)\n",
    "XX = pd.DataFrame()\n",
    "for c in features:\n",
    "    XX[c] = X[c]\n",
    "\n",
    "model.fit(XX, y)\n",
    "model.score(XX, y)"
   ]
  },
  {
   "cell_type": "code",
   "execution_count": 27,
   "metadata": {},
   "outputs": [
    {
     "data": {
      "text/html": [
       "<div>\n",
       "<style scoped>\n",
       "    .dataframe tbody tr th:only-of-type {\n",
       "        vertical-align: middle;\n",
       "    }\n",
       "\n",
       "    .dataframe tbody tr th {\n",
       "        vertical-align: top;\n",
       "    }\n",
       "\n",
       "    .dataframe thead th {\n",
       "        text-align: right;\n",
       "    }\n",
       "</style>\n",
       "<table border=\"1\" class=\"dataframe\">\n",
       "  <thead>\n",
       "    <tr style=\"text-align: right;\">\n",
       "      <th></th>\n",
       "      <th>age</th>\n",
       "      <th>daily_hours_willing_to_work</th>\n",
       "      <th>days_willing_train_unpaid</th>\n",
       "      <th>distance_willing_to_travel</th>\n",
       "      <th>years_education</th>\n",
       "      <th>years_exp</th>\n",
       "      <th>rwage1</th>\n",
       "      <th>hh_income</th>\n",
       "      <th>num_children</th>\n",
       "      <th>personal_income</th>\n",
       "    </tr>\n",
       "  </thead>\n",
       "  <tbody>\n",
       "    <tr>\n",
       "      <th>0</th>\n",
       "      <td>-0.022099</td>\n",
       "      <td>0.002932</td>\n",
       "      <td>0.004344</td>\n",
       "      <td>0.04088</td>\n",
       "      <td>0.035615</td>\n",
       "      <td>1.982494</td>\n",
       "      <td>0.36799</td>\n",
       "      <td>0.304175</td>\n",
       "      <td>3.373916</td>\n",
       "      <td>0.378986</td>\n",
       "    </tr>\n",
       "  </tbody>\n",
       "</table>\n",
       "</div>"
      ],
      "text/plain": [
       "        age  daily_hours_willing_to_work  days_willing_train_unpaid  \\\n",
       "0 -0.022099                     0.002932                   0.004344   \n",
       "\n",
       "   distance_willing_to_travel  years_education  years_exp   rwage1  hh_income  \\\n",
       "0                     0.04088         0.035615   1.982494  0.36799   0.304175   \n",
       "\n",
       "   num_children  personal_income  \n",
       "0      3.373916         0.378986  "
      ]
     },
     "metadata": {},
     "output_type": "display_data"
    },
    {
     "data": {
      "text/html": [
       "<div>\n",
       "<style scoped>\n",
       "    .dataframe tbody tr th:only-of-type {\n",
       "        vertical-align: middle;\n",
       "    }\n",
       "\n",
       "    .dataframe tbody tr th {\n",
       "        vertical-align: top;\n",
       "    }\n",
       "\n",
       "    .dataframe thead th {\n",
       "        text-align: right;\n",
       "    }\n",
       "</style>\n",
       "<table border=\"1\" class=\"dataframe\">\n",
       "  <thead>\n",
       "    <tr style=\"text-align: right;\">\n",
       "      <th></th>\n",
       "      <th>age</th>\n",
       "      <th>daily_hours_willing_to_work</th>\n",
       "      <th>days_willing_train_unpaid</th>\n",
       "      <th>distance_willing_to_travel</th>\n",
       "      <th>years_education</th>\n",
       "      <th>years_exp</th>\n",
       "      <th>rwage1</th>\n",
       "      <th>hh_income</th>\n",
       "      <th>num_children</th>\n",
       "      <th>personal_income</th>\n",
       "      <th>...</th>\n",
       "      <th>syrian_considered-yes</th>\n",
       "      <th>transport_subsidy_offered-no</th>\n",
       "      <th>transport_subsidy_offered-yes</th>\n",
       "      <th>visual_disability_accepted-no</th>\n",
       "      <th>work_permit_offered-no</th>\n",
       "      <th>work_permit_offered-yes</th>\n",
       "      <th>years_experience_required-0.0</th>\n",
       "      <th>years_experience_required-1.0</th>\n",
       "      <th>years_experience_required-2.0</th>\n",
       "      <th>years_experience_required-nan</th>\n",
       "    </tr>\n",
       "  </thead>\n",
       "  <tbody>\n",
       "    <tr>\n",
       "      <th>0</th>\n",
       "      <td>0.00011</td>\n",
       "      <td>0.194796</td>\n",
       "      <td>4.206728e-11</td>\n",
       "      <td>0.060689</td>\n",
       "      <td>0.464084</td>\n",
       "      <td>0.001722</td>\n",
       "      <td>0.812247</td>\n",
       "      <td>0.0</td>\n",
       "      <td>0.057247</td>\n",
       "      <td>3.793442e-222</td>\n",
       "      <td>...</td>\n",
       "      <td>0.95998</td>\n",
       "      <td>0.770509</td>\n",
       "      <td>0.22016</td>\n",
       "      <td>0.01539</td>\n",
       "      <td>0.606397</td>\n",
       "      <td>0.599926</td>\n",
       "      <td>0.757844</td>\n",
       "      <td>0.563093</td>\n",
       "      <td>0.395136</td>\n",
       "      <td>0.395136</td>\n",
       "    </tr>\n",
       "  </tbody>\n",
       "</table>\n",
       "<p>1 rows × 245 columns</p>\n",
       "</div>"
      ],
      "text/plain": [
       "       age  daily_hours_willing_to_work  days_willing_train_unpaid  \\\n",
       "0  0.00011                     0.194796               4.206728e-11   \n",
       "\n",
       "   distance_willing_to_travel  years_education  years_exp    rwage1  \\\n",
       "0                    0.060689         0.464084   0.001722  0.812247   \n",
       "\n",
       "   hh_income  num_children  personal_income              ...                \\\n",
       "0        0.0      0.057247    3.793442e-222              ...                 \n",
       "\n",
       "   syrian_considered-yes  transport_subsidy_offered-no  \\\n",
       "0                0.95998                      0.770509   \n",
       "\n",
       "   transport_subsidy_offered-yes  visual_disability_accepted-no  \\\n",
       "0                        0.22016                        0.01539   \n",
       "\n",
       "   work_permit_offered-no  work_permit_offered-yes  \\\n",
       "0                0.606397                 0.599926   \n",
       "\n",
       "   years_experience_required-0.0  years_experience_required-1.0  \\\n",
       "0                       0.757844                       0.563093   \n",
       "\n",
       "   years_experience_required-2.0  years_experience_required-nan  \n",
       "0                       0.395136                       0.395136  \n",
       "\n",
       "[1 rows x 245 columns]"
      ]
     },
     "metadata": {},
     "output_type": "display_data"
    },
    {
     "data": {
      "text/html": [
       "<div>\n",
       "<style scoped>\n",
       "    .dataframe tbody tr th:only-of-type {\n",
       "        vertical-align: middle;\n",
       "    }\n",
       "\n",
       "    .dataframe tbody tr th {\n",
       "        vertical-align: top;\n",
       "    }\n",
       "\n",
       "    .dataframe thead th {\n",
       "        text-align: right;\n",
       "    }\n",
       "</style>\n",
       "<table border=\"1\" class=\"dataframe\">\n",
       "  <thead>\n",
       "    <tr style=\"text-align: right;\">\n",
       "      <th></th>\n",
       "      <th>age</th>\n",
       "      <th>daily_hours_willing_to_work</th>\n",
       "      <th>days_willing_train_unpaid</th>\n",
       "      <th>distance_willing_to_travel</th>\n",
       "      <th>years_education</th>\n",
       "      <th>years_exp</th>\n",
       "      <th>rwage1</th>\n",
       "      <th>hh_income</th>\n",
       "      <th>num_children</th>\n",
       "      <th>personal_income</th>\n",
       "    </tr>\n",
       "  </thead>\n",
       "  <tbody>\n",
       "    <tr>\n",
       "      <th>0</th>\n",
       "      <td>0.978143</td>\n",
       "      <td>1.002937</td>\n",
       "      <td>1.004353</td>\n",
       "      <td>1.041727</td>\n",
       "      <td>1.036257</td>\n",
       "      <td>7.260829</td>\n",
       "      <td>1.444827</td>\n",
       "      <td>1.355506</td>\n",
       "      <td>29.192623</td>\n",
       "      <td>1.460802</td>\n",
       "    </tr>\n",
       "  </tbody>\n",
       "</table>\n",
       "</div>"
      ],
      "text/plain": [
       "        age  daily_hours_willing_to_work  days_willing_train_unpaid  \\\n",
       "0  0.978143                     1.002937                   1.004353   \n",
       "\n",
       "   distance_willing_to_travel  years_education  years_exp    rwage1  \\\n",
       "0                    1.041727         1.036257   7.260829  1.444827   \n",
       "\n",
       "   hh_income  num_children  personal_income  \n",
       "0   1.355506     29.192623         1.460802  "
      ]
     },
     "metadata": {},
     "output_type": "display_data"
    }
   ],
   "source": [
    "display(coef_frame)\n",
    "display(pval_frame)\n",
    "display(odds_ratios)"
   ]
  },
  {
   "cell_type": "code",
   "execution_count": 28,
   "metadata": {},
   "outputs": [],
   "source": [
    "combined = coef_frame.append(pval_frame).append(np.exp(odds_ratios))\n",
    "combined.to_csv('../match-data/match-v1/combined.csv')"
   ]
  }
 ],
 "metadata": {
  "kernelspec": {
   "display_name": "Python 3",
   "language": "python",
   "name": "python3"
  },
  "language_info": {
   "codemirror_mode": {
    "name": "ipython",
    "version": 3
   },
   "file_extension": ".py",
   "mimetype": "text/x-python",
   "name": "python",
   "nbconvert_exporter": "python",
   "pygments_lexer": "ipython3",
   "version": "3.6.6"
  }
 },
 "nbformat": 4,
 "nbformat_minor": 2
}
